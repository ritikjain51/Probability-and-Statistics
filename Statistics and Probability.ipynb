{
 "cells": [
  {
   "cell_type": "code",
   "execution_count": 1,
   "metadata": {
    "slideshow": {
     "slide_type": "-"
    }
   },
   "outputs": [],
   "source": [
    "import numpy as np\n",
    "import matplotlib.pyplot as plt\n",
    "from collections import Counter\n",
    "%matplotlib inline"
   ]
  },
  {
   "cell_type": "markdown",
   "metadata": {
    "slideshow": {
     "slide_type": "-"
    }
   },
   "source": [
    "<u>Statistics</u> is a field of maths which deals with the calculation on some dataset or some quantity of data & coming out with some matrix which can <i>describe</i> data. Some others matrices will help you to _infer_(to observe something useful information from data) something from that data. <br>\n",
    "Majorly we have two type of statistics in statistic domain:\n",
    "<ul><li>*Descriptive Statistics*: It basically a type of statistics which aim to provide summary about the data. That summary can help us to understand about the popualation.</li>\n",
    "<li>*Inferential statistics*: It is use to take a random sample from the population to describe and make decision on the basis of some inference about the population<br> There are two type of inferential statistics: <ol><li>Frequential Inferential statistics</li> <li>Bayesian inferential statistics</li></ol></li></ul>"
   ]
  },
  {
   "cell_type": "markdown",
   "metadata": {},
   "source": [
    "%%latex\n",
    "In statistical domain, we have three major concepts:\n",
    "<li>*Frequency*: The number of times a number occurs in an experiment. </li>\n",
    "<li>*Relative Frequency*: It is the fraction of number of times desired outcome occurs over the total number of outcomes. \n",
    "\\begin{equation}\n",
    "Relative Frequency = \\frac{number of desired outcome}{total number of outcome}\n",
    "\\end{equation}</li>\n",
    "<li>*Cummulative Relative Frequency*: It is the sum of all the relative frequency of the sample. \n",
    "$$CRF = \\sum_{i=0}^{N} {\\bigg(\\frac{x_i}{N}\\bigg)} = 1$$</li>\n",
    "Because total relative frequency of the sample is 1.\n"
   ]
  },
  {
   "cell_type": "markdown",
   "metadata": {},
   "source": [
    "Let's take a example of tossing a coin:<br>\n",
    "There are only two outcome either a heads or tails<br>\n",
    "Let's take sample size $N = 10$. That means we are tossing the coin 10 times recording the observation. <br>"
   ]
  },
  {
   "cell_type": "code",
   "execution_count": 2,
   "metadata": {},
   "outputs": [],
   "source": [
    "N = 10\n",
    "#Instead of manually tossing, we can generate the toss through the numpy library randomly.\n",
    "# It takes three parameter lowest value, highest + 1, size. returns a numpy array.\n",
    "Tosses = np.random.randint(0, 2, N)"
   ]
  },
  {
   "cell_type": "code",
   "execution_count": 3,
   "metadata": {},
   "outputs": [
    {
     "data": {
      "text/plain": [
       "array([1, 0, 0, 1, 0, 1, 1, 0, 0, 0])"
      ]
     },
     "execution_count": 3,
     "metadata": {},
     "output_type": "execute_result"
    }
   ],
   "source": [
    "Tosses # Here we are considering 0 as heads and 1 as tails"
   ]
  },
  {
   "cell_type": "code",
   "execution_count": 4,
   "metadata": {},
   "outputs": [
    {
     "name": "stdout",
     "output_type": "stream",
     "text": [
      "The number 1 occurs 4 times\n",
      "The number 0 occurs 6 times\n"
     ]
    }
   ],
   "source": [
    "toss_count = Counter(Tosses)\n",
    "\n",
    "for i in toss_count.keys():\n",
    "    print (\"The number {} occurs {} times\".format(i, toss_count[i]))"
   ]
  },
  {
   "cell_type": "markdown",
   "metadata": {},
   "source": [
    "As we know frequency is number of times a number occurs, here\n",
    "Number 0 occurs 4 times\n",
    "Number 1 occurs 6 times <br>\n",
    "so, frequency of 0 is 4<br>\n",
    "frequenct of 1 is 6<br>"
   ]
  },
  {
   "cell_type": "code",
   "execution_count": 5,
   "metadata": {},
   "outputs": [
    {
     "name": "stdout",
     "output_type": "stream",
     "text": [
      "Relative frequency for: \n",
      "0 is 0.40\n",
      "1 is 0.60\n"
     ]
    }
   ],
   "source": [
    "print ('Relative frequency for: ')\n",
    "print ('%d is %.2f'%(0 ,(4.0 / N)))\n",
    "print ('%d is %.2f'%(1 ,(6.0 / N)))"
   ]
  },
  {
   "cell_type": "code",
   "execution_count": 6,
   "metadata": {
    "scrolled": false
   },
   "outputs": [
    {
     "data": {
      "text/plain": [
       "Text(0.5, 1.0, 'Frequency plot of coin toss')"
      ]
     },
     "execution_count": 6,
     "metadata": {},
     "output_type": "execute_result"
    },
    {
     "data": {
      "image/png": "[encoded data removed]",
      "text/plain": [
       "<Figure size 432x288 with 1 Axes>"
      ]
     },
     "metadata": {
      "needs_background": "light"
     },
     "output_type": "display_data"
    }
   ],
   "source": [
    "plt.hist(Tosses, width = 0.5)\n",
    "plt.xlim(-0.5, 2)\n",
    "plt.ylim(0, 8)\n",
    "plt.ylabel('Frequency')\n",
    "plt.title('Frequency plot of coin toss')"
   ]
  },
  {
   "cell_type": "markdown",
   "metadata": {},
   "source": [
    "Measures for calculation in statistics domain is:\n",
    "mean, mode, median, standard deviation, variance etc.\n",
    "\n",
    "$$Mean = \\bar{x} = \\frac{\\sum_{i = 0}^{N} x_i}{N}$$\n",
    "\n",
    "In our previous example, we had tossed a coin and the sample is [1, 1, 1, 0, 0, 0, 1, 1, 0, 1]. \n",
    "When we sum all the values and divide it by sample size. We get the mean\n",
    "$$sumVal = 1 + 1 + 1 + 0 + 0 + 0 + 1 + 1 + 0 + 1 = 6$$\n",
    "$$\\bar{x} = \\frac{sumVal}{N} = \\frac{6}{10} = 0.6 $$"
   ]
  },
  {
   "cell_type": "code",
   "execution_count": 7,
   "metadata": {},
   "outputs": [],
   "source": [
    "def Mean(X):\n",
    "    if type(X) == list:\n",
    "        X = np.ndarray(X)\n",
    "    return round(np.mean(X), 2)"
   ]
  },
  {
   "cell_type": "code",
   "execution_count": 8,
   "metadata": {},
   "outputs": [
    {
     "data": {
      "text/plain": [
       "0.4"
      ]
     },
     "execution_count": 8,
     "metadata": {},
     "output_type": "execute_result"
    }
   ],
   "source": [
    "meanValue = Mean(Tosses)\n",
    "meanValue"
   ]
  },
  {
   "cell_type": "markdown",
   "metadata": {},
   "source": [
    "*Probability* is the relative frequency of observation in case of population. It is actually the limiting case of relative frequency when the sample size approaches towards population. \n",
    "So, when we take the example of tossing two coins. If, we do tossing million of times and record the observation. Now, calculate the relative frequency of favourable outcomes. When we are talking about the millions then relative frequency converted into probability. \n",
    "\n",
    "So, let's start the experiment.<br>\n",
    "In this experiment, we are calculating probability that the next toss will be a head.\n",
    "We are starting with small sample size and moving towards a larger sample size.\n"
   ]
  },
  {
   "cell_type": "code",
   "execution_count": 9,
   "metadata": {},
   "outputs": [
    {
     "name": "stdout",
     "output_type": "stream",
     "text": [
      "Sample size:        10\t Total number of heads:         2\n",
      "Sample size:       100\t Total number of heads:        43\n",
      "Sample size:      1000\t Total number of heads:       511\n",
      "Sample size:     10000\t Total number of heads:      5041\n",
      "Sample size:    100000\t Total number of heads:     49638\n",
      "Sample size:   1000000\t Total number of heads:    500374\n",
      "Sample size: 100000000\t Total number of heads:  49999438\n"
     ]
    }
   ],
   "source": [
    "sampleSize = [10, 100, 1000, 10000, 100000, 1000000, 100000000]\n",
    "sampleToss = []\n",
    "for size in sampleSize:\n",
    "    toss = np.random.randint(0, 2, size)\n",
    "    sampleToss.append(toss)\n",
    "    print ('Sample size: %9d\\t Total number of heads: %9d'%(size, np.count_nonzero(toss == 0)))"
   ]
  },
  {
   "cell_type": "markdown",
   "metadata": {},
   "source": [
    "As, we can see when we are approaching to population the frequency is going to stablize (there is not much difference between frequency). <br>\n",
    "Let's take relative frequency for the same sample."
   ]
  },
  {
   "cell_type": "code",
   "execution_count": 10,
   "metadata": {},
   "outputs": [
    {
     "name": "stdout",
     "output_type": "stream",
     "text": [
      "Sample size:        10\t Relative frequency: 0.2000\n",
      "Sample size:       100\t Relative frequency: 0.4300\n",
      "Sample size:      1000\t Relative frequency: 0.5110\n",
      "Sample size:     10000\t Relative frequency: 0.5041\n",
      "Sample size:    100000\t Relative frequency: 0.4964\n",
      "Sample size:   1000000\t Relative frequency: 0.5004\n",
      "Sample size: 100000000\t Relative frequency: 0.5000\n"
     ]
    }
   ],
   "source": [
    "Relative_freq = []\n",
    "for index in range(len(sampleSize)):\n",
    "    rel_freq = np.count_nonzero(sampleToss[index] == 0) / float(sampleSize[index])\n",
    "    Relative_freq.append(rel_freq)\n",
    "    print ('Sample size: %9d\\t Relative frequency: %.4f'%(sampleSize[index], rel_freq))"
   ]
  },
  {
   "cell_type": "markdown",
   "metadata": {},
   "source": [
    "As can see when we are approaching towards population the relative frequency becomes <b>probability</b> and It is getting stablized (there is not much difference).\n",
    "\n"
   ]
  },
  {
   "cell_type": "markdown",
   "metadata": {},
   "source": [
    "In probabilistic domain we are dealing with two type of random variable: \n",
    "<ul><li>*Discrete Random Variable*: Discrete random variable are those variable which have a discrete value or random variable with only number not decimal values.<br>For e.g.: <ul><li>Tossing a coin can have two random variable (Heads or tails)</li><li>Throwing a 6 sided dice only have 6 values. $[1,2,3,4,5,6]$ </li></ul> </li><br>\n",
    "<li>*Continuous random variable: *Continous random variable are those variable where values can be in decimal. When the values are into an interval.<br>For e.g.<ul><li>Height of a man.</li><li>size of contact lens</li></ul></li></ul>"
   ]
  },
  {
   "cell_type": "markdown",
   "metadata": {},
   "source": [
    "In probabilistic domain, we also have mean, variance, standard deviation. But, in probabilistic domain we always calculate in \"*Expected Sense*\". \n",
    "So, in probabilistic domain everything will come in _Expectation operator_ $E\\big[X\\big]$.\n",
    "\n",
    "For *Expected Mean*, we use:\n",
    "$$E\\big[X\\big] = \\sum_{i = -\\infty}^{\\infty} x_iP\\big(X = x_i\\big)$$"
   ]
  },
  {
   "cell_type": "markdown",
   "metadata": {},
   "source": [
    "Let's drive for Expected Mean\n",
    "\n",
    "We know that $$\\bar {x} = \\frac{\\sum_{i = 0}^N x_i}{N}$$\n",
    "Let's take a example of tossing 5 coins:\n",
    "We get observation as $[0,0,1,0,1,1]$ where 0 refers to Heads and 1 refers to tails\n",
    "So, when we are finding mean value:\n",
    "$$ =  \\frac{0 + 0 + 1 + 0 + 1 + 1}{6}$$\n",
    "we can also write in form of $freq_{x_i} * x_i$. It will become\n",
    "$$= \\frac{3(0) + 3(1)}{6} $$\n",
    "$$= \\frac{3}{6}(0) + \\frac{3}{6}(1)$$\n",
    "It change to relative frequency. So, \n",
    "$$E\\big[X\\big]= \\sum_{i = 0}^{N} x_i P(x_i) $$"
   ]
  },
  {
   "cell_type": "markdown",
   "metadata": {},
   "source": [
    "Similarly, variance of probability is \n",
    "$$E \\big[(X_i - \\mu)\\big] = \\sum_{i = 0}^{N}{(x_i - \\mu)}^2 $$"
   ]
  }
 ],
 "metadata": {
  "kernelspec": {
   "display_name": "Python 3",
   "language": "python",
   "name": "python3"
  },
  "language_info": {
   "codemirror_mode": {
    "name": "ipython",
    "version": 3
   },
   "file_extension": ".py",
   "mimetype": "text/x-python",
   "name": "python",
   "nbconvert_exporter": "python",
   "pygments_lexer": "ipython3",
   "version": "3.7.1"
  }
 },
 "nbformat": 4,
 "nbformat_minor": 2
}
