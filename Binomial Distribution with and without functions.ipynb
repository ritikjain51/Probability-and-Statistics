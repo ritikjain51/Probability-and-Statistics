{
 "cells": [
  {
   "cell_type": "markdown",
   "metadata": {},
   "source": [
    "*_Binomial Distribution:_* It is the _discrete_ probability distribution function which summarizes that a random variable can only have one of two independent values either yes or no. A binomial random variable is number of success x in a binomial experiment. The probability distribution function of binomial random variable is known as Binomial Distribution. \n",
    "\n",
    "Probability Distribution function in case of Discrete random variable known as *Probability Mass Function*."
   ]
  },
  {
   "cell_type": "code",
   "execution_count": 1,
   "metadata": {
    "collapsed": true
   },
   "outputs": [],
   "source": [
    "import numpy as np\n",
    "import matplotlib.pyplot as plt\n",
    "\n"
   ]
  },
  {
   "cell_type": "markdown",
   "metadata": {},
   "source": [
    "### Probability Distribution (Mass) Function (PDF)\n",
    "*Probability distribution function* is some function that is used to determine the probability of a given random variable. \n",
    "\n",
    "The probability distribution function of a binomial random variable is given by:\n",
    "\n",
    "$$P(X = k) = {N \\choose K} p^k q^{(N-k)} $$\n",
    "\n",
    "where $p$ is  _'natural parameter'_ of binomial PDF and the probability of desired outcomes(success) out of *N* trials of an experiment. \n",
    "\n",
    "$q$ is the probability of undesired outcome (failure). It is *$q = 1 - p$*.\n",
    "\n",
    "$N$ is the total number of events in the experiment.\n",
    "\n",
    "$k$ is the total number of favourable events.\n",
    "\n",
    "To get the probability of getting $k$ desired outcomes. We need two natural parameters $p$ and $N$.\n",
    "\n",
    "In our example, we are taking a dice with *6 sides*. $N = 10$ and plot binomial distribution for different values of natural parameter $p$.\n",
    "\n",
    "Initially, we are going to take $p = 0.1667$. Because\n",
    "$$P(X = k) = \\frac{1}{6} = 0.1667$$\n"
   ]
  },
  {
   "cell_type": "code",
   "execution_count": 3,
   "metadata": {
    "collapsed": true
   },
   "outputs": [],
   "source": [
    "# Initiallizing all the variables.\n",
    "probDesired = 0.1667\n",
    "probUnDesired = 1 - probDesired\n",
    "N = 10"
   ]
  },
  {
   "cell_type": "code",
   "execution_count": 4,
   "metadata": {
    "collapsed": true
   },
   "outputs": [],
   "source": [
    "# Write the function for Binomial PDF\n",
    "\n",
    "def BinomialPDF(k, N, pSuccess):\n",
    "    '''\n",
    "    It will take 3 parameters\n",
    "    k: Favourable events\n",
    "    N: Total number of events\n",
    "    pSuccess: probability of favourable cases\n",
    "    \n",
    "    return\n",
    "    probability of success P(X = k)\n",
    "    '''\n",
    "    qFailure = 1 - pSuccess\n",
    "    prob = None\n",
    "    if type(k) == int:\n",
    "        combinationNum = np.math.factorial(N) / (np.math.factorial(k) * np.math.factorial(N - k))\n",
    "        print (combinationNum)\n",
    "        print (pSuccess ** k)\n",
    "        print (qFailure ** (N-k))\n",
    "        prob = combinationNum * (pSuccess ** k) * (qFailure ** (N - k))\n",
    "    elif type(k) == np.array or type(k) == list or type(k) == np.ndarray:\n",
    "        prob = []\n",
    "        for kVal in k:\n",
    "            combinationNum = np.math.factorial(N) / (np.math.factorial(kVal) * np.math.factorial(N - kVal))\n",
    "            prob.append(combinationNum * (pSuccess ** kVal) * (qFailure ** (N - kVal)))\n",
    "    return prob"
   ]
  },
  {
   "cell_type": "code",
   "execution_count": 5,
   "metadata": {},
   "outputs": [
    {
     "data": {
      "text/plain": [
       "array([ 0,  1,  2,  3,  4,  5,  6,  7,  8,  9, 10])"
      ]
     },
     "execution_count": 5,
     "metadata": {},
     "output_type": "execute_result"
    }
   ],
   "source": [
    "# Taking all the xValues\n",
    "xValues = np.arange(0, 11)\n",
    "xValues"
   ]
  },
  {
   "cell_type": "code",
   "execution_count": 6,
   "metadata": {
    "collapsed": true
   },
   "outputs": [],
   "source": [
    "binoPDFprob = BinomialPDF(xValues, N, probDesired)"
   ]
  },
  {
   "cell_type": "code",
   "execution_count": 7,
   "metadata": {},
   "outputs": [
    {
     "name": "stdout",
     "output_type": "stream",
     "text": [
      "Probability for each random variable \n",
      "P(X = 0) = 0.161440992284\n",
      "P(X = 1) = 0.322959479344\n",
      "P(X = 2) = 0.290733293447\n",
      "P(X = 3) = 0.155094971855\n",
      "P(X = 4) = 0.0542962686482\n",
      "P(X = 5) = 0.0130342320657\n",
      "P(X = 6) = 0.0021728934011\n",
      "P(X = 7) = 0.000248390276157\n",
      "P(X = 8) = 1.86337419156e-05\n",
      "P(X = 9) = 8.28365075224e-07\n",
      "P(X = 10) = 1.65712778159e-08\n"
     ]
    }
   ],
   "source": [
    "## We get all the probability\n",
    "print (\"Probability for each random variable \")\n",
    "for i in xValues:\n",
    "    print ('P(X = {}) = {}'.format(i, binoPDFprob[i]))"
   ]
  },
  {
   "cell_type": "code",
   "execution_count": 8,
   "metadata": {},
   "outputs": [
    {
     "data": {
      "text/plain": [
       "<matplotlib.text.Text at 0x905dd68>"
      ]
     },
     "execution_count": 8,
     "metadata": {},
     "output_type": "execute_result"
    },
    {
     "data": {
      "image/png": "[encoded data removed]",
      "text/plain": [
       "<matplotlib.figure.Figure at 0x76a94a8>"
      ]
     },
     "metadata": {},
     "output_type": "display_data"
    }
   ],
   "source": [
    "%matplotlib inline\n",
    "plt.stem(binoPDFprob)\n",
    "plt.title('Stem plot for Dice probability Mass Function at pSuccess value of 0.1667', fontdict = {'fontsize': 15})\n",
    "plt.xlabel('Random Variables')\n",
    "plt.ylabel('Probability of random variable P(X)')"
   ]
  },
  {
   "cell_type": "markdown",
   "metadata": {},
   "source": [
    "Here the graph is left skewed. <br>\n",
    "Let's see change in graph when we tweak the natural parameter <i>*p*(probDesired) </i>\n",
    "\n",
    "Here, we are considering a biased dice.\n",
    "###### Change it to 0.5 and calculate the probability of random variable"
   ]
  },
  {
   "cell_type": "code",
   "execution_count": 113,
   "metadata": {
    "collapsed": true
   },
   "outputs": [],
   "source": [
    "probDesired = 0.5\n",
    "binoPDFprob = BinomialPDF(xValues, N, probDesired) # Calculate the values"
   ]
  },
  {
   "cell_type": "code",
   "execution_count": 118,
   "metadata": {},
   "outputs": [
    {
     "name": "stdout",
     "output_type": "stream",
     "text": [
      "Probability for each random variable \n",
      "P(X = 0) = 0.0009765625\n",
      "P(X = 1) = 0.009765625\n",
      "P(X = 2) = 0.0439453125\n",
      "P(X = 3) = 0.1171875\n",
      "P(X = 4) = 0.205078125\n",
      "P(X = 5) = 0.24609375\n",
      "P(X = 6) = 0.205078125\n",
      "P(X = 7) = 0.1171875\n",
      "P(X = 8) = 0.0439453125\n",
      "P(X = 9) = 0.009765625\n",
      "P(X = 10) = 0.0009765625\n"
     ]
    }
   ],
   "source": [
    "# We get all the probability\n",
    "print (\"Probability for each random variable \")\n",
    "for i in xValues:\n",
    "    print ('P(X = {}) = {}'.format(i, binoPDFprob[i]))"
   ]
  },
  {
   "cell_type": "code",
   "execution_count": 117,
   "metadata": {},
   "outputs": [
    {
     "data": {
      "text/plain": [
       "<matplotlib.text.Text at 0x13c59320>"
      ]
     },
     "execution_count": 117,
     "metadata": {},
     "output_type": "execute_result"
    },
    {
     "data": {
      "image/png": "[encoded data removed]",
      "text/plain": [
       "<matplotlib.figure.Figure at 0x13a9dbe0>"
      ]
     },
     "metadata": {},
     "output_type": "display_data"
    }
   ],
   "source": [
    "%matplotlib inline\n",
    "plt.stem(binoPDFprob)\n",
    "plt.title('Stem plot for Dice probability Mass Function at pSuccess value of 0.5', fontdict = {'fontsize': 15})\n",
    "plt.xlabel('Random Variables')\n",
    "plt.ylabel('Probability of random variable P(X)')"
   ]
  },
  {
   "cell_type": "markdown",
   "metadata": {},
   "source": [
    "When we changed the desired probability to 0.5, the graph shifted toward the right side and provide a symmetric graph. \n",
    "\n",
    "<i> Let change the desired probability to 0.7 and see </i>"
   ]
  },
  {
   "cell_type": "code",
   "execution_count": 9,
   "metadata": {
    "collapsed": true
   },
   "outputs": [],
   "source": [
    "probDesired = 0.7\n",
    "binoPDFprob = BinomialPDF(xValues, N, probDesired) # Calculate the values"
   ]
  },
  {
   "cell_type": "code",
   "execution_count": 10,
   "metadata": {},
   "outputs": [
    {
     "name": "stdout",
     "output_type": "stream",
     "text": [
      "Probability for each random variable \n",
      "P(X = 0) = 5.9049e-06\n",
      "P(X = 1) = 0.000137781\n",
      "P(X = 2) = 0.0014467005\n",
      "P(X = 3) = 0.009001692\n",
      "P(X = 4) = 0.036756909\n",
      "P(X = 5) = 0.1029193452\n",
      "P(X = 6) = 0.200120949\n",
      "P(X = 7) = 0.266827932\n",
      "P(X = 8) = 0.2334744405\n",
      "P(X = 9) = 0.121060821\n",
      "P(X = 10) = 0.0282475249\n"
     ]
    }
   ],
   "source": [
    "# We get all the probability\n",
    "print (\"Probability for each random variable \")\n",
    "for i in xValues:\n",
    "    print ('P(X = {}) = {}'.format(i, binoPDFprob[i]))"
   ]
  },
  {
   "cell_type": "code",
   "execution_count": 11,
   "metadata": {},
   "outputs": [
    {
     "data": {
      "text/plain": [
       "<matplotlib.text.Text at 0x914ef98>"
      ]
     },
     "execution_count": 11,
     "metadata": {},
     "output_type": "execute_result"
    },
    {
     "data": {
      "image/png": "[encoded data removed]",
      "text/plain": [
       "<matplotlib.figure.Figure at 0x8f95d30>"
      ]
     },
     "metadata": {},
     "output_type": "display_data"
    }
   ],
   "source": [
    "%matplotlib inline\n",
    "plt.stem(binoPDFprob)\n",
    "plt.title('Stem plot for Dice probability Mass Function at pSuccess value of 0.7', fontdict = {'fontsize': 15})\n",
    "plt.xlabel('Random Variables')\n",
    "plt.ylabel('Probability of random variable P(X)')"
   ]
  },
  {
   "cell_type": "markdown",
   "metadata": {},
   "source": [
    "When we changed the probDesired to 0.7, we can see the graph is skewed toward right. This behaviour also known as *Right Skewed *. "
   ]
  },
  {
   "cell_type": "markdown",
   "metadata": {},
   "source": [
    "### Cumulative Distribution Function (CDF)\n",
    "*Cumulative Distribution Function* is a function which corresponds to the probability of random variable from the minimum variable. It is given by:\n",
    "$$F(X) = {\\sum_{k = -\\infty}^{\\infty} P(X = k)}$$\n",
    "\n",
    "In the case of Dice it becomes:\n",
    "$$F(X) = {\\sum_{k = 1}^{6} P(X = k)}$$ \n",
    "or \n",
    "$$F(X) = P(X = 1) + P(X = 2) + P(X = 3) + P(X = 4) + P(X = 5) + P(X = 6) $$\n",
    "$$ F(X) = \\bigg({6 \\choose 1} {(0.1667)^1} {(0.8333)^5} \\bigg) + ... + \\bigg({6 \\choose 6} {(0.1667)^6} {(0.8333)^0} \\bigg) $$\n",
    "so, $F(X) = 0.1614 + 0.323 + 0.2907 + 0.1551 + 0.0543 + 0.013 + 0.0021 + 0.00025 + 1.8634e-05 + 8.285e-07 + 1.657e-08 = 1 $\n",
    "\n",
    "The cumulative probability is 1. "
   ]
  },
  {
   "cell_type": "code",
   "execution_count": 122,
   "metadata": {
    "collapsed": true
   },
   "outputs": [],
   "source": [
    "probDesired = 0.1667 # Change back to original probability\n",
    "binoPDFprob = BinomialPDF(xValues, N, probDesired) # Calculate the values"
   ]
  },
  {
   "cell_type": "code",
   "execution_count": 132,
   "metadata": {},
   "outputs": [
    {
     "data": {
      "text/plain": [
       "0.99999999999999989"
      ]
     },
     "execution_count": 132,
     "metadata": {},
     "output_type": "execute_result"
    }
   ],
   "source": [
    "CumulativeProbability = np.sum(binoPDFprob)"
   ]
  },
  {
   "cell_type": "markdown",
   "metadata": {},
   "source": [
    "## Binomial Distribution (PMF) using Funtion\n",
    "\n",
    "We are using the scipy library function \n",
    "```python\n",
    "import scipy.stats as S\n",
    "```"
   ]
  },
  {
   "cell_type": "code",
   "execution_count": 136,
   "metadata": {
    "collapsed": true
   },
   "outputs": [],
   "source": [
    "import scipy.stats as S"
   ]
  },
  {
   "cell_type": "code",
   "execution_count": 138,
   "metadata": {
    "collapsed": true
   },
   "outputs": [],
   "source": [
    "pSuccess = 0.1667\n",
    "N = 10\n",
    "xValues = np.arange(1, 10)"
   ]
  },
  {
   "cell_type": "code",
   "execution_count": 140,
   "metadata": {
    "collapsed": true
   },
   "outputs": [],
   "source": [
    "pmfVal = S.binom.pmf(xValues, N, pSuccess) "
   ]
  },
  {
   "cell_type": "code",
   "execution_count": 144,
   "metadata": {},
   "outputs": [
    {
     "name": "stdout",
     "output_type": "stream",
     "text": [
      "Probability for each random variable \n",
      "P(X = 1) = 0.322959479344\n",
      "P(X = 2) = 0.290733293447\n",
      "P(X = 3) = 0.155094971855\n",
      "P(X = 4) = 0.0542962686482\n",
      "P(X = 5) = 0.0130342320657\n",
      "P(X = 6) = 0.0021728934011\n",
      "P(X = 7) = 0.000248390276157\n",
      "P(X = 8) = 1.86337419156e-05\n",
      "P(X = 9) = 8.28365075224e-07\n"
     ]
    }
   ],
   "source": [
    "## We get all the probability\n",
    "print (\"Probability for each random variable \")\n",
    "for i in xValues:\n",
    "    print ('P(X = {}) = {}'.format(i, pmfVal[i-1]))"
   ]
  },
  {
   "cell_type": "markdown",
   "metadata": {
    "collapsed": true
   },
   "source": [
    "## Expected Mean for Binomial Distribution\n",
    "\n",
    "    Mean for probability distribution is given by: \n",
    "$$E[X] = \\sum_{x = -\\infty}^{\\infty} x. P(X = x) $$\n",
    "\n",
    "    So probability distribution function for binomial distribution is mentioned above.\n",
    "Let's take a example of tossing 3 coins. There is 2 random variable :\n",
    "<br>Total number of events: 6\n",
    "\n",
    "So, Mean is:\n",
    "      $$E[X] = 0.P(X = 0) + 1. P(X = 1) + 2. P(X = 2) + 3.P(X = 3)$$\n",
    "Change the expand the $P(X = x)$.\n",
    "$$E[X] = 0. {3 \\choose 0}.(p)^0. (q)^{(3-0)} + 1. {3 \\choose 1}.(p)^1. (q)^{(3-1)} + 2. {3 \\choose 2}.(p)^2. (q)^{(3-2)} + 3. {3 \\choose 3}.(p)^3. (q)^{(6-3)}$$\n",
    "Solve the values\n",
    "$$= 0. 1. q^3 + 1. 3. p^1 q^2 + 2. 3. p^2. q^1 + 3. 1. p^3$$<br>\n",
    "$$ = 0 + 3pq^2 + 6p^2q + 3p^3$$<br>\n",
    "$$ = 3p\\big[q^2 + 2pq + p^2\\big]$$\n",
    "$ \\therefore $ we know $a^2 + b^2 + 2ab = {(a + b)}^2 $\n",
    "so, $$ = 3p{(p + q)}^2$$\n",
    "$\\therefore$  $n = 3 $ and $ p + q = 1$\n",
    "$$ E[X] = np $$"
   ]
  },
  {
   "cell_type": "markdown",
   "metadata": {
    "collapsed": true
   },
   "source": [
    "## Expected Variance \n",
    "\n",
    "Similarly, Variance for probability distribution is given by:\n",
    "$$ E\\big[{(x - \\mu)}^2\\big] = \\sum_{i= -\\infty}^{\\infty} {(x - \\mu)}^2 .P(x)$$\n",
    "\n",
    "when we going to drive the formula we will get:\n",
    "$$ E\\big[{(x - \\mu)}^2\\big] = npq $$"
   ]
  },
  {
   "cell_type": "code",
   "execution_count": null,
   "metadata": {
    "collapsed": true
   },
   "outputs": [],
   "source": []
  }
 ],
 "metadata": {
  "kernelspec": {
   "display_name": "Python 3",
   "language": "python",
   "name": "python3"
  },
  "language_info": {
   "codemirror_mode": {
    "name": "ipython",
    "version": 3
   },
   "file_extension": ".py",
   "mimetype": "text/x-python",
   "name": "python",
   "nbconvert_exporter": "python",
   "pygments_lexer": "ipython3",
   "version": "3.7.1"
  }
 },
 "nbformat": 4,
 "nbformat_minor": 2
}
