{
 "cells": [
  {
   "cell_type": "markdown",
   "metadata": {},
   "source": [
    "Poisson distribution is the probability distribution for number of favourable events occurs in a specific interval such as time, space etc. \n",
    "\n",
    "probability mass function for poisson distribution is given by:\n",
    "$$P(X = k) = \\frac{e ^ {-\\lambda} \\lambda ^ k} {k!}$$\n",
    "\n",
    "Where, $k$ is the number of favourable events.<br>\n",
    "$\\lambda$ is the mode value. \n",
    "$e$ is the exponent.<br>\n",
    "$k!$ is factorial of k\n",
    "\n",
    "Also, $\\lambda$ is the natural parameter for the poisson distribution."
   ]
  },
  {
   "cell_type": "code",
   "execution_count": 2,
   "metadata": {},
   "outputs": [],
   "source": [
    "import numpy as np\n",
    "import matplotlib.pyplot as plt\n",
    "%matplotlib inline"
   ]
  },
  {
   "cell_type": "markdown",
   "metadata": {},
   "source": [
    "Here, i am going to find the best estimator for the natural parameters of poisson distribution. \n",
    "\n",
    "I am using **Maximum Likelihood Estimation** function to estimate the natural parameter.\n",
    "\n",
    "Steps to find maximum likeliood function for any Probability Distribution. \n",
    "- We assume that we took a sample from particular probability distributed population with some unknown natural paramters. \n",
    "- We are also assuming that sample has n observation which are IID(Independent & Identically distributed)\n",
    "<br><br>\n",
    "\n",
    "According to the IID assumption:\n",
    "So, after assuming Identically Distributed we will get:\n",
    "$$L(P(X = x)) = P(X = x_1 \\cap X = x_2\\cap ... \\cap X = x_n)$$ \n",
    "After assuming Independently distributed we will get:\n",
    "$$L(P(X = x)) = P(X = x_1) . P(X = x_2) . .... . P(X = x_n)$$\n",
    "\n",
    "On the basis of the assumption i am going to solve for natural parameter.\n"
   ]
  },
  {
   "cell_type": "markdown",
   "metadata": {},
   "source": [
    "$$L(\\lambda) = \\frac{e ^ {-\\lambda} \\lambda ^ k_1} {k_1!} \\frac{e ^ {-\\lambda} \\lambda ^ k_2} {k_2!} ... \\frac{e ^ {-\\lambda} \\lambda ^ k_N} {k_N!}$$\n",
    "\n",
    " $$L(\\lambda)  = \\frac{e^{-N \\lambda} \\lambda^{\\Sigma_{i = 1}^{N} k_i}} {k_i !}$$\n",
    "\n",
    "Applying log function\n",
    "  $$log_e{L(\\lambda)}  = log_e{\\frac{e^{-N \\lambda} \\lambda^{\\Sigma_{i = 1}^{N} k_i}} { \\Pi_{i = 1}^{N} k_i !}}$$\n",
    "  \n",
    "  $$log_e{L(\\lambda)}  = log_e{{e^{-N \\lambda}}log_e({\\lambda^{\\Sigma_{i = 1}^{N} k_i}}) - log_e{\\Pi_{i = 1}^{N}k_i !}}$$\n",
    "  \n",
    "  Applying neg sign \n",
    "  $$ -log_e(L(\\lambda)) = N\\lambda  - \\Sigma_{i = 1}^{N}k_i log_e{\\lambda} + log_e{\\Pi_{i = 1}^{N} k_i !}$$\n",
    "  \n",
    "  with respect to $\\lambda$ take $\\partial$ differentiation\n",
    "  \n",
    "  $$ \\frac{\\partial}{\\partial\\lambda}-log_e(L(\\lambda)) = \\frac{\\partial}{\\partial\\lambda}N\\lambda  - \\frac{\\partial}{\\partial\\lambda}\\Sigma_{i = 1}^{N}k_i log_e{\\lambda} + \\frac{\\partial}{\\partial\\lambda}log_e{\\Pi_{i = 1}^{N} k_i !}$$\n",
    "  \n",
    "  $$ \\frac{\\partial}{\\partial\\lambda}-log_e{L(\\lambda)} = N - \\frac{\\Sigma_{i = 1}^{N}k_i} {\\lambda} + 0$$\n",
    "  \n",
    "  $$E[\\hat{\\lambda}_{ML}] = \\frac{\\Sigma_{i = 1}^{N} k_i}{N}$$\n",
    "  \n",
    "  So we find the estimation function for the natural parameter $\\lambda$"
   ]
  },
  {
   "cell_type": "code",
   "execution_count": 3,
   "metadata": {},
   "outputs": [],
   "source": [
    "## Initializing the lambda value and sample size\n",
    "lambdaValue = 10\n",
    "N = 1000, 10\n",
    "sampleValue = np.random.poisson(lambdaValue, N)"
   ]
  },
  {
   "cell_type": "code",
   "execution_count": 9,
   "metadata": {},
   "outputs": [
    {
     "data": {
      "text/plain": [
       "array([[12,  4, 12, ...,  5,  9,  9],\n",
       "       [10, 10, 11, ..., 10, 13,  9],\n",
       "       [ 9,  9, 12, ...,  5,  8,  6],\n",
       "       ...,\n",
       "       [ 5, 10, 11, ..., 12, 12,  6],\n",
       "       [13,  7, 14, ..., 11,  5,  7],\n",
       "       [10,  7,  9, ..., 13,  6, 12]])"
      ]
     },
     "execution_count": 9,
     "metadata": {},
     "output_type": "execute_result"
    }
   ],
   "source": [
    "sampleValue"
   ]
  },
  {
   "cell_type": "code",
   "execution_count": 11,
   "metadata": {},
   "outputs": [
    {
     "data": {
      "text/plain": [
       "([array([  3.,  21., 187., 241., 343., 115.,  79.,   7.,   3.,   1.]),\n",
       "  array([  3.,  30., 204., 229., 328., 130.,  69.,   7.,   0.,   0.]),\n",
       "  array([  3.,  28., 203., 221., 345., 115.,  69.,  13.,   3.,   0.]),\n",
       "  array([  4.,  29., 182., 253., 319., 127.,  73.,   8.,   4.,   1.]),\n",
       "  array([  4.,  23., 186., 229., 348., 120.,  81.,   6.,   2.,   1.]),\n",
       "  array([  3.,  29., 193., 224., 351., 121.,  68.,  10.,   1.,   0.]),\n",
       "  array([  4.,  26., 188., 241., 321., 134.,  68.,  14.,   4.,   0.]),\n",
       "  array([  1.,  32., 169., 241., 355., 128.,  62.,   7.,   4.,   1.]),\n",
       "  array([  3.,  33., 195., 244., 336., 127.,  56.,   3.,   3.,   0.]),\n",
       "  array([  2.,  23., 201., 242., 325., 130.,  58.,  13.,   5.,   1.])],\n",
       " array([ 0. ,  2.5,  5. ,  7.5, 10. , 12.5, 15. , 17.5, 20. , 22.5, 25. ]),\n",
       " <a list of 10 Lists of Patches objects>)"
      ]
     },
     "execution_count": 11,
     "metadata": {},
     "output_type": "execute_result"
    },
    {
     "data": {
      "image/png": "[encoded data removed]",
      "text/plain": [
       "<Figure size 432x288 with 1 Axes>"
      ]
     },
     "metadata": {
      "needs_background": "light"
     },
     "output_type": "display_data"
    }
   ],
   "source": [
    "# Plotting each sample at same axis.\n",
    "plt.hist(sampleValue)"
   ]
  },
  {
   "cell_type": "markdown",
   "metadata": {},
   "source": [
    "As we find the estimation function for natural parameter, which is similar to statistical mean."
   ]
  },
  {
   "cell_type": "code",
   "execution_count": 12,
   "metadata": {},
   "outputs": [],
   "source": [
    "## Calculating sample mean values\n",
    "sampleMean = np.mean(sampleValue, axis = 1)"
   ]
  },
  {
   "cell_type": "code",
   "execution_count": 13,
   "metadata": {
    "scrolled": true
   },
   "outputs": [
    {
     "data": {
      "text/plain": [
       "array([ 9.1, 11. ,  8.3, 10.4, 10.3, 10.4,  9.1,  8.5, 10.9, 10.4, 11.2,\n",
       "       10.6, 10.6, 10.2,  9.3,  9.5, 13.1, 10.2,  9.7,  9.2, 10.5, 11.3,\n",
       "       11.2, 10.4,  9.5,  8.9,  9.1,  8.4, 10.2,  9.9, 10.2,  8.5, 10.1,\n",
       "        9.7,  8.5, 10.2, 10. , 11.5, 11. , 10.2, 11.4, 10.3, 12.2, 10.5,\n",
       "        9.1, 11.7, 10. ,  9.3, 10.7, 10.5,  9.8,  9.8, 10.7,  8.5, 10.8,\n",
       "       11.9,  9. , 10.1, 10.9, 10.7,  9. ,  9.1,  9.2,  8.7, 11.6, 11. ,\n",
       "        9.7,  9.9,  9.8, 11.1,  8.7,  9.1,  9.6, 10.3, 11.3, 10.8,  9.6,\n",
       "       10.4, 11.8,  9.7,  9.4, 10.4, 10.2,  9.2,  9.3,  9.3,  9. , 11.2,\n",
       "       10.2,  9.1,  9.8, 10.4, 11. , 10.7,  8.4,  9.1,  9.7, 11.8,  8.5,\n",
       "        8.8,  9. , 11.8, 10.7,  9.8,  9.6, 10.9,  8.8, 10.2,  9.9, 10.4,\n",
       "        9.6,  9.4,  9.3, 10.1, 10.8, 10.8,  9.3, 10.1,  9.3,  9.9,  8.7,\n",
       "        9.7,  9.7,  7.8, 11.2, 10.1, 11.3, 10.1, 10.2,  9.1, 11.3, 10.3,\n",
       "        8.5,  9. , 10.5,  8. ,  9.1,  8.6,  9.8,  9.6, 10. , 10.3, 10.6,\n",
       "        9.2, 10.2,  8.2, 11.6,  9.4, 10.6, 10.3, 10.2,  9.2, 10.1,  7.9,\n",
       "        9.8, 11.2, 11. , 11. ,  9.8, 10.6, 10.8, 11.3,  9.1,  9.8, 11.7,\n",
       "       11.3, 10.4,  9.5,  9.5,  7. , 11.2, 11.9, 10.8,  9.4,  8.8, 11. ,\n",
       "        9. , 10.3, 10.6,  8.9, 10.2,  9.9, 11.6, 11.8,  9.9, 13. , 10. ,\n",
       "        9.4, 10.9,  9.9,  8.8,  9.3,  9.7, 11.9,  8.6,  9. , 11.4, 10.1,\n",
       "        9.3,  9.3, 10.4, 10. ,  8.9,  9.8, 10.3,  9.2,  9.9, 10.2, 10.2,\n",
       "        8.5,  9.3,  9.5, 10.4, 12.2, 10.9, 10.8, 10. ,  9.4,  9.9,  8.7,\n",
       "       10.1, 10.2,  9.5,  8.9,  9.4,  9.2,  9.5,  9. ,  9.2,  9.4,  9.4,\n",
       "        9.4, 12.5,  8.9, 10.3,  9.3, 10.4, 10.9, 11.7,  7.8, 10.1,  9.7,\n",
       "       11.1,  9.9,  7.5,  9.4,  9.9,  8.6,  9.2, 11.1, 10. , 11.5, 10.3,\n",
       "       12.2,  9.6,  7.3,  9.4, 10. , 10. ,  9.8, 10.6, 10.3, 10.6, 10.2,\n",
       "       12.2,  9.7, 10.1,  9.3, 10.1,  9.2, 10.3, 10.7, 11. ,  8.9, 10.2,\n",
       "        9.3,  8.8, 11.2,  9.8, 10.1, 11.7,  8.9, 10.6, 10.2, 10. ,  9.3,\n",
       "        9.9, 10. , 10.5, 10.4, 11.8,  8. , 12. , 12.2, 10.3,  9.9, 10.4,\n",
       "       11.5, 10.5, 10.1,  9.7, 11.7, 10.1,  9.8, 10.9, 10.6,  9.8,  9.5,\n",
       "       10.2, 10.3,  8.8,  9.9,  8.6, 10.7, 10.6,  8.7, 10.1, 10.7,  9.5,\n",
       "       10.9,  8.6,  9. ,  9.2, 10.5,  9.3,  9.2,  8.9,  8.7,  9.3, 11.7,\n",
       "        9.4, 10.5, 10.2, 11.3, 12.6, 10.8,  7.8, 10.4,  9. ,  9.8, 10.3,\n",
       "       10.1, 11.1, 10.1,  8.4, 10.3, 11.7, 10.1, 10.6, 11. , 10.7,  9.8,\n",
       "        9.2,  9.6,  9.9, 10. ,  8.4, 11.2, 11.5,  8.9,  9.2,  8.5,  9.3,\n",
       "       10.6, 10.9,  8.5, 10.8, 11.1,  9.8,  9.4, 10.6, 10.4, 10.7, 10.6,\n",
       "        8.6, 10.3, 10.3, 10.5, 10.7, 10.7, 10.5, 10.4,  8.1,  8.9, 10.9,\n",
       "       10.6, 11.3,  9.2, 11.9,  9.7, 10.9, 10. , 10.4,  9.8, 10.4, 10.8,\n",
       "        8.9,  8.4,  8.9, 10.3,  9.3,  8. , 10. ,  9.8,  8.3,  9. ,  9.2,\n",
       "       10.1,  8.6,  9.9, 10. ,  9.3,  9.9, 10.9,  8.9,  9.7, 10.7,  9.9,\n",
       "        9.8,  8.1, 10.8, 10.1,  8.7,  8.2,  9.9,  8.7,  9.3, 10.2, 11.7,\n",
       "        9.3, 11.1, 10. ,  9. ,  9.3,  9.4,  9.2, 11.2,  9.2, 11.1,  9.3,\n",
       "        9.5,  9.9, 10.7, 10.4, 10.3,  8.3,  9.5, 12.4, 10.5,  9.8, 11.1,\n",
       "        8.3, 12.2, 10.8, 10.5, 10.5,  9.7,  8.5, 11.2,  8.9, 10.2, 10.6,\n",
       "        8.5, 11.4, 10.9,  7.4, 12.1,  9.6, 10.8,  9.9, 10. ,  9.4, 12.1,\n",
       "        9.9,  9.3,  7.3, 10.4, 10. ,  9.4, 10.5,  9.3,  9.4,  8.3,  9. ,\n",
       "        9.9, 10.4,  7.9, 11. ,  7.9, 11.3,  7.3,  9.2,  9.6,  8.7, 10.2,\n",
       "        9.5, 10.5,  9. , 10.7, 11.4, 10.2,  9.2, 10.9,  8.9, 10.6,  9.5,\n",
       "        9.3,  9.2,  8.6, 12. , 11.5,  9.8, 10.4, 10.5, 11. ,  9.1,  9.2,\n",
       "        9.5, 10. ,  9.3, 11.9,  9.8, 10.2,  8.3, 10.4, 10.3, 10.1, 10.5,\n",
       "        8.9, 10.1,  9. ,  8. ,  8.8, 10.9,  9.3, 11.4, 10.2, 13. , 10.2,\n",
       "        9.8, 10.3, 10.9, 11.2, 11.5, 11.2,  9.4, 11.3,  9.4,  9.4, 11.7,\n",
       "        9.1, 11.1, 10.1, 10.9, 10.6,  8.1,  9.9,  9.2, 10.5, 10.4,  9.5,\n",
       "       11.4,  9.3, 10.7, 11.1, 11.4, 10. , 11.1,  9.6, 11.2, 11.5,  9.4,\n",
       "        9.5, 10.2,  9.8, 10.8,  7. , 11.2,  8.7,  9.6,  9.2, 10.2, 12.2,\n",
       "        8.9,  9.5,  9.4,  8.7, 10.5,  8.8,  9.3, 11.2, 10.4, 10.9,  9.9,\n",
       "        8.7, 11. , 11. ,  9.5,  9.5, 11.3,  9.4,  9.4, 10. ,  8.5, 10.6,\n",
       "        9.8, 10.3, 10.9, 10. ,  8.3, 10.1, 10.8, 10.1, 11.4,  9. ,  8.9,\n",
       "       10.7, 11.4, 10.6,  9. , 11. , 10.3,  8.4,  9.5, 10.1,  8.5,  9.7,\n",
       "        9. ,  9.6,  7.8, 10.5,  9.4,  8.2,  9.2, 10.3, 10.7, 10.1,  8.6,\n",
       "       11.9, 10. ,  9.7,  8.5,  8.8,  9.6, 10.1, 11.6,  9.7, 10.3,  8.2,\n",
       "        9.3, 11.1,  8.9, 11.6, 11.2, 10.7,  9. , 10. , 10.4, 10.7, 10.4,\n",
       "        9. ,  8.5,  9.3, 10.4,  9.3,  9.8,  9.3,  9.5, 10.3, 10.3,  9.4,\n",
       "       10.7,  9.2, 10.6, 10. ,  9.9, 11.8, 10. ,  9.1, 11.2,  9.4,  9.4,\n",
       "       10.5,  9.1, 11.3, 10.8,  9.1,  9.5, 11.1,  9.2, 10.1,  9.3, 10. ,\n",
       "        8.9,  8.3, 10.6, 11.3,  9.3,  9.3, 11.9,  9. ,  9.7,  9.7, 11.1,\n",
       "        8.7,  9.9, 10.5,  9.8, 11.3,  7.5, 10.3, 11.6,  8.9, 10.7,  9.1,\n",
       "       10.7,  9.7, 10.4,  8.7, 12.1,  9.3, 12. , 10.8, 10.4, 11.7, 10.9,\n",
       "       11.1, 10.4, 11.2, 10.5, 11. , 10. ,  9.6,  9. ,  8.3,  9.3, 11.1,\n",
       "        8.7, 10.3, 11.6,  9.3, 10.5, 10.2,  9.9, 10.3,  9.6,  9.2, 10.9,\n",
       "       11.6,  9.8,  9.7, 10.7,  9. ,  8.8,  9.4, 10.4,  9.7,  9.2,  9.1,\n",
       "        9. ,  9.5, 10.7,  9.1,  8.5, 11.1, 11.6, 10.5,  9.7,  8.9,  8.3,\n",
       "       11.2, 10.4,  9.2,  7.9, 11.2, 10.6,  9.9, 11.4,  9.7,  9.8, 10.5,\n",
       "       10.7,  9.9,  9.6,  9.2, 10.3,  9.7, 10.6,  9.5, 10.3, 10.2,  9.3,\n",
       "        9.1,  9.4, 11.2, 11.8, 10.4, 10.4, 10.8,  7. , 10.2,  8.5, 11.3,\n",
       "        8.3,  9.4,  9.4,  9.2,  8.6, 10.8, 10.1,  9.7, 10.8, 10.4,  9.2,\n",
       "       11. , 10.7,  9.6,  8.7, 10.2,  9.8,  9.2,  9.4, 10.2, 10.7, 10.4,\n",
       "        9.9, 10.1,  8.5,  8.6,  9.1, 10. , 11.7, 10.5, 11.5,  8.5,  9. ,\n",
       "        9.3,  7.6,  9.6,  9.3,  9.4, 10.3,  9.5, 10. ,  8.7, 11.4,  9.2,\n",
       "        9.7, 10.9,  8.6, 10.3, 10.9, 10.3,  9.3, 11.6,  9.9,  9.2, 12.3,\n",
       "       10.6,  9.4, 10.2, 10.1,  9. , 12.3,  7.7, 11. ,  9.7, 11.5,  9.4,\n",
       "       10.5, 11.3,  9.1, 10. , 11.4, 10.5, 10.3,  9.8,  8.9, 10.1,  9.5,\n",
       "        8.5,  9.6,  9.1,  8.6, 12.6, 10.7, 11.4,  9.2,  9.7,  8. ,  9.1,\n",
       "        9.4, 10.5, 10.3, 12. , 11.4,  8.4,  8.1, 10.1, 11.8, 10. , 10.9,\n",
       "       12.1,  8.8,  9.8,  8.3, 10.2,  9. ,  9.8,  8. , 10.8, 11. ,  9.7,\n",
       "       11.4, 10.5, 10.3,  9.3,  9.4,  8.8,  8.5, 10.1,  9.5,  9.1,  9.4,\n",
       "       11.5,  9.3,  9.8,  9.3,  8.5,  9.4,  9.8, 11.3, 12.7, 11.1, 12.2,\n",
       "        9.5, 10.4, 10.1,  9.7,  9. , 10.6, 11.8, 10.8, 11.4,  8.8,  9.3,\n",
       "       12. ,  9.5, 10.6, 11.7, 10. , 11.9, 10.6, 10.8,  9.4,  9.5, 10.3,\n",
       "       10.8,  8.4, 11.7,  9.2,  9.9, 11. ,  8.9, 10.5,  8.2,  9. , 10.3,\n",
       "       10.3, 10.1,  9. , 11.5, 10.6, 10.8, 10.4, 10.6, 11.2,  9.2,  8.2,\n",
       "        9.5,  9.6,  8.8, 10.9, 10.9,  9.7,  9.7,  7.8,  9.2,  9.5, 10.1,\n",
       "       11.8,  6.5,  8.7, 10.5,  9.8,  9.2,  9.7,  9.6,  9.5,  9.7])"
      ]
     },
     "execution_count": 13,
     "metadata": {},
     "output_type": "execute_result"
    }
   ],
   "source": [
    "sampleMean"
   ]
  },
  {
   "cell_type": "code",
   "execution_count": 16,
   "metadata": {},
   "outputs": [
    {
     "data": {
      "text/plain": [
       "(array([  4.,  13.,  40., 146., 221., 261., 181.,  89.,  38.,   7.]),\n",
       " array([ 6.5 ,  7.16,  7.82,  8.48,  9.14,  9.8 , 10.46, 11.12, 11.78,\n",
       "        12.44, 13.1 ]),\n",
       " <a list of 10 Patch objects>)"
      ]
     },
     "execution_count": 16,
     "metadata": {},
     "output_type": "execute_result"
    },
    {
     "data": {
      "image/png": "[encoded data removed]",
      "text/plain": [
       "<Figure size 432x288 with 1 Axes>"
      ]
     },
     "metadata": {
      "needs_background": "light"
     },
     "output_type": "display_data"
    }
   ],
   "source": [
    "# Plotting the sample means\n",
    "plt.hist(sampleMean)"
   ]
  },
  {
   "cell_type": "code",
   "execution_count": 17,
   "metadata": {},
   "outputs": [
    {
     "data": {
      "text/plain": [
       "9.9741"
      ]
     },
     "execution_count": 17,
     "metadata": {},
     "output_type": "execute_result"
    }
   ],
   "source": [
    "# Calculating the best estimated value for the natural parameter (lambda).\n",
    "\n",
    "best_lambda_estiamted = np.mean(sampleMean)\n",
    "best_lambda_estiamted"
   ]
  },
  {
   "cell_type": "markdown",
   "metadata": {},
   "source": [
    "### Writing own histogram for the variable"
   ]
  },
  {
   "cell_type": "code",
   "execution_count": 11,
   "metadata": {},
   "outputs": [],
   "source": [
    "minVal = np.min(sampleMean)\n",
    "maxVal = np.max(sampleMean)\n",
    "NumBin = 10\n",
    "\n",
    "binWidth = (maxVal - minVal) / NumBin"
   ]
  },
  {
   "cell_type": "code",
   "execution_count": 12,
   "metadata": {},
   "outputs": [
    {
     "data": {
      "text/plain": [
       "0.63"
      ]
     },
     "execution_count": 12,
     "metadata": {},
     "output_type": "execute_result"
    }
   ],
   "source": [
    "binWidth"
   ]
  },
  {
   "cell_type": "code",
   "execution_count": 13,
   "metadata": {},
   "outputs": [],
   "source": [
    "marker = np.arange(minVal, maxVal + binWidth, binWidth)"
   ]
  },
  {
   "cell_type": "code",
   "execution_count": 14,
   "metadata": {},
   "outputs": [
    {
     "data": {
      "text/plain": [
       "array([ 6.7 ,  7.33,  7.96,  8.59,  9.22,  9.85, 10.48, 11.11, 11.74,\n",
       "       12.37, 13.  ])"
      ]
     },
     "execution_count": 14,
     "metadata": {},
     "output_type": "execute_result"
    }
   ],
   "source": [
    "marker"
   ]
  },
  {
   "cell_type": "code",
   "execution_count": 15,
   "metadata": {},
   "outputs": [],
   "source": [
    "from math import floor\n",
    "freq = np.zeros(shape = len(marker))\n",
    "for val in sampleMean:\n",
    "    index = floor((val - minVal) / binWidth)\n",
    "    freq[index] += 1"
   ]
  },
  {
   "cell_type": "code",
   "execution_count": 16,
   "metadata": {},
   "outputs": [
    {
     "data": {
      "text/plain": [
       "array([  4.,  11.,  61., 158., 210., 235., 206.,  75.,  27.,  12.,   1.])"
      ]
     },
     "execution_count": 16,
     "metadata": {},
     "output_type": "execute_result"
    }
   ],
   "source": [
    "freq"
   ]
  },
  {
   "cell_type": "code",
   "execution_count": 25,
   "metadata": {},
   "outputs": [
    {
     "data": {
      "text/plain": [
       "Text(0.5, 1.0, 'Sampling Distribution for Poission Distribution')"
      ]
     },
     "execution_count": 25,
     "metadata": {},
     "output_type": "execute_result"
    },
    {
     "data": {
      "image/png": "[encoded data removed]",
      "text/plain": [
       "<Figure size 432x288 with 1 Axes>"
      ]
     },
     "metadata": {
      "needs_background": "light"
     },
     "output_type": "display_data"
    }
   ],
   "source": [
    "plt.bar(marker, freq)\n",
    "plt.plot(marker, freq, 'r--')\n",
    "plt.xlabel('Random Variable --->')\n",
    "plt.ylabel('Frequency--->')\n",
    "plt.title('Sampling Distribution for Poission Distribution')"
   ]
  },
  {
   "cell_type": "code",
   "execution_count": null,
   "metadata": {},
   "outputs": [],
   "source": []
  }
 ],
 "metadata": {
  "kernelspec": {
   "display_name": "Python 3",
   "language": "python",
   "name": "python3"
  },
  "language_info": {
   "codemirror_mode": {
    "name": "ipython",
    "version": 3
   },
   "file_extension": ".py",
   "mimetype": "text/x-python",
   "name": "python",
   "nbconvert_exporter": "python",
   "pygments_lexer": "ipython3",
   "version": "3.6.8"
  }
 },
 "nbformat": 4,
 "nbformat_minor": 2
}
