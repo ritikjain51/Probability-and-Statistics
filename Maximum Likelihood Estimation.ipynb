{
 "cells": [
  {
   "cell_type": "markdown",
   "metadata": {},
   "source": [
    "## Maximum Likelihood Estimation \n",
    "Maximum likelihood estimation is the method which directly gives MVU (Minimum variance Unbiased) estimator of the natural parameter of a probability distribution. \n",
    "<ul>\n",
    "    <li>This is a point estimate method</li>\n",
    "    <li>98% of the cases it gives you MVU estimator. </li>\n",
    "    <li>It is a <b>Deterministic approximation inference method</b></li>\n",
    "</ul>\n",
    "\n",
    "Likelihood function is also known as PDF which tells a probability of occurance of particular value is a sample. \n"
   ]
  },
  {
   "cell_type": "markdown",
   "metadata": {},
   "source": [
    "We have many probability distribution function lke:\n",
    "- Normal Distribution \n",
    "- Binomial Distribution\n",
    "- Uniform Distribution\n",
    "- Poisson Distribution\n",
    "- Gamma Distribution \n",
    "and many more.\n"
   ]
  },
  {
   "cell_type": "code",
   "execution_count": 1,
   "metadata": {},
   "outputs": [],
   "source": [
    "import numpy as np\n",
    "import matplotlib.pyplot as plt\n",
    "%matplotlib inline"
   ]
  },
  {
   "cell_type": "markdown",
   "metadata": {},
   "source": [
    "Maximum likelihood estimation uses $-\\log_e$ Likelihood function. Because We have to find the maximum value of likelihood function.<br>\n",
    "\n",
    "Let's take example of Normal Distribution:\n",
    "So, probability Density function of normal distribution is given by:\n",
    "$$P(X=x) = \\frac{1}{2\\pi\\sigma} e^{\\frac{(x-\\mu)}{2\\sigma^2}}$$\n",
    "\n",
    "In this formula, we have two natural parameters. Natural parameters are the scale value which change the graph.\n",
    "To find the values for natural parameters, We have to calculate formula for every natural parameter.\n"
   ]
  },
  {
   "cell_type": "markdown",
   "metadata": {},
   "source": [
    "Steps to find maximum likeliood function for any Probability Distribution. \n",
    "- We assume that we took a sample from particular probability distributed population with some unknown natural paramters. \n",
    "- We are also assuming that sample has n observation which are IID(Independent & Identically distributed)\n",
    "<br><br>According to the IID assumption:\n",
    "So, after assuming Identically Distributed we will get:\n",
    "$$L(P(X = x)) = P(X = x_1 \\cap X = x_2\\cap ... \\cap X = x_n)$$ \n",
    "After assuming Independently distributed we will get:\n",
    "$$L(P(X = x)) = P(X = x_1) . P(X = x_2) . .... . P(X = x_n)$$"
   ]
  },
  {
   "cell_type": "markdown",
   "metadata": {},
   "source": [
    "Now, we want to find such values of $\\hat{\\mu}$ and $\\hat{\\sigma}$. Such that, $L(\\hat{\\mu}, \\hat{\\sigma})$ reaches to its maximum value.\n",
    "We have to find the Global Maxima for all the values. "
   ]
  },
  {
   "cell_type": "markdown",
   "metadata": {},
   "source": [
    "We have to modify the likelihood function to log likelihood function because our likelihood function was non-convex which will create problem in reaching to *global maxima* and therefore converting our function into log likelihood. it become convex. Thereby maing it easier to reach global maximum. But still we can't maximize our log likelihood function. So, we add negative sign. on the left hand side on our function. There by making it ultimately log likelihood function. "
   ]
  },
  {
   "cell_type": "markdown",
   "metadata": {},
   "source": [
    "So, after solving for one natural parameter.\n",
    "Like in normal Distribution we have $\\mu$ and $\\sigma$. \n",
    "fr "
   ]
  }
 ],
 "metadata": {
  "kernelspec": {
   "display_name": "Python 3",
   "language": "python",
   "name": "python3"
  },
  "language_info": {
   "codemirror_mode": {
    "name": "ipython",
    "version": 3
   },
   "file_extension": ".py",
   "mimetype": "text/x-python",
   "name": "python",
   "nbconvert_exporter": "python",
   "pygments_lexer": "ipython3",
   "version": "3.7.1"
  }
 },
 "nbformat": 4,
 "nbformat_minor": 2
}
