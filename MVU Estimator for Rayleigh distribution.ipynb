{
 "cells": [
  {
   "cell_type": "markdown",
   "metadata": {},
   "source": [
    "Rayleigh distribution is probability distribution for continuous random variable. This distribution applied when the population is skewed. \n",
    "\n",
    "The probability distribution function for rayleigh distribution is given by:\n",
    "\n",
    "$$P(X = x) = \\frac{x}{\\sigma^2} e^{- \\frac{x^2}{2\\sigma^2}}$$\n",
    "\n",
    "where, $\\sigma$ is mode value, also the natural parameter of rayleigh distribution.<br>\n",
    "$x$ is the random variable\n",
    "\n",
    "So, here we have to find the estimation function of natural parameter $\\sigma$.\n",
    "\n",
    "So, now i have to import the neccessary libraries to take input, plotting and output"
   ]
  },
  {
   "cell_type": "code",
   "execution_count": 2,
   "metadata": {},
   "outputs": [],
   "source": [
    "import numpy as np\n",
    "import matplotlib.pyplot as plt \n",
    "%matplotlib inline"
   ]
  },
  {
   "cell_type": "markdown",
   "metadata": {},
   "source": [
    "Here, i am going to find the best estimator for the natural parameters of poisson distribution. \n",
    "\n",
    "I am using **Maximum Likelihood Estimation** function to estimate the natural parameter.\n",
    "\n",
    "Steps to find maximum likeliood function for any Probability Distribution. \n",
    "- We assume that we took a sample from particular probability distributed population with some unknown natural paramters. \n",
    "- We are also assuming that sample has n observation which are IID(Independent & Identically distributed)\n",
    "<br><br>\n",
    "\n",
    "According to the IID assumption:\n",
    "So, after assuming Identically Distributed we will get:\n",
    "$$L(P(X = x)) = P(X = x_1 \\cap X = x_2\\cap ... \\cap X = x_n)$$ \n",
    "After assuming Independently distributed we will get:\n",
    "$$L(P(X = x)) = P(X = x_1) . P(X = x_2) . .... . P(X = x_n)$$\n",
    "\n",
    "On the basis of the assumption i am going to solve for natural parameter.\n"
   ]
  },
  {
   "cell_type": "markdown",
   "metadata": {},
   "source": [
    "Let's expand the formula. \n",
    "\n",
    "$$L(\\hat{\\sigma}) = \\frac{x_1}{\\sigma^2} e^{- \\frac{x_1^2}{2\\sigma^2}}  \\frac{x_2}{\\sigma^2} e^{- \\frac{x_2^2}{2\\sigma^2}} ... \\frac{x_N}{\\sigma^2} e^{- \\frac{x_N^2}{2\\sigma^2}}$$\n",
    "\n",
    "$$L(\\hat{\\sigma}) = \\frac{\\Sigma_{i = 1}^{N}x_i}{\\sigma^2} e^{- N \\frac{\\Sigma_{i=1}^{N} {x_i}^2}{2\\sigma^2} }$$\n",
    "\n",
    "Applying $log_e$\n",
    "$$log_e{L(\\hat{\\sigma})} = log_e\\bigg(\\Pi_{i = 1}^{N}x_i{\\frac{1}{\\sigma^2} e^{-\\frac{\\Sigma_{i=1}^{N} {x_i}^2}{2\\sigma^2} }}\\bigg)$$\n",
    "\n",
    "\n",
    "$$log_e{L(\\hat{\\sigma})} = log_e\\bigg(\\Pi_{i = 1}^{N}x_i{\\frac{1}{\\sigma^2}\\bigg)} + log_e{\\bigg(e^{- \\frac{\\Sigma_{i=1}^{N} {x_i}^2}{2\\sigma^2} }}\\bigg)$$\n",
    "\n",
    "$$log_e{L(\\hat{\\sigma})} = log_e\\big(\\Pi_{i = 1}^{N}x_i\\big) + log_e{\\big({\\frac{1}{\\sigma^2}\\big)}} - {\\frac{\\Sigma_{i=1}^{N} {x_i}^2}{2\\sigma^2} } $$\n",
    "\n",
    "$$log_e{L(\\hat{\\sigma})} = \\Sigma_{i = 1}^{N}log_e{x_i} - 2N log_e{\\sigma} - {\\frac{\\Sigma_{i=1}^{N} {x_i}^2}{2\\sigma^2} } $$\n",
    "\n",
    "applying negative sign\n",
    "\n",
    "$$- log_e{L(\\hat{\\sigma})} = -\\Sigma_{i = 1}^{N}log_e{x_i} + 2N log_e{\\sigma} + {\\frac{\\Sigma_{i=1}^{N} {x_i}^2}{2\\sigma^2} } $$\n",
    "\n",
    "applying $\\partial$ differentition with respect to $\\sigma$\n",
    "\n",
    "$$\\frac{\\partial}{\\partial\\sigma} \\big[- log_e{L(\\hat{\\sigma})}\\big] = 0 + \\frac{2N}{\\sigma} - \\frac{\\Sigma_{i = 1}^{N} x^2}{\\sigma^3} $$\n",
    "\n",
    "after solving it, we will get\n",
    "\n",
    "$$\\hat{\\sigma}_{ML} = \\sqrt{\\frac{\\Sigma_{i = 1}^{N} x^2_i}{2N}}$$"
   ]
  },
  {
   "cell_type": "markdown",
   "metadata": {},
   "source": [
    "Now, let's estimate the population mode value using sampling distribution. "
   ]
  },
  {
   "cell_type": "code",
   "execution_count": 3,
   "metadata": {},
   "outputs": [],
   "source": [
    "## Initializing population \n",
    "mode_val = 30\n",
    "pop_size = 10000"
   ]
  },
  {
   "cell_type": "code",
   "execution_count": 4,
   "metadata": {},
   "outputs": [],
   "source": [
    "# Taking population\n",
    "population = np.random.rayleigh(scale = mode_val, size = pop_size)"
   ]
  },
  {
   "cell_type": "code",
   "execution_count": 5,
   "metadata": {},
   "outputs": [
    {
     "data": {
      "text/plain": [
       "(array([ 400.,  969., 1445., 1645., 1548., 1290., 1034.,  686.,  470.,\n",
       "         245.,  134.,   67.,   44.,   14.,    9.]),\n",
       " array([  0.48271276,   8.5341416 ,  16.58557045,  24.6369993 ,\n",
       "         32.68842815,  40.739857  ,  48.79128584,  56.84271469,\n",
       "         64.89414354,  72.94557239,  80.99700124,  89.04843009,\n",
       "         97.09985893, 105.15128778, 113.20271663, 121.25414548]),\n",
       " <a list of 15 Patch objects>)"
      ]
     },
     "execution_count": 5,
     "metadata": {},
     "output_type": "execute_result"
    },
    {
     "data": {
      "image/png": "[encoded data removed]",
      "text/plain": [
       "<Figure size 432x288 with 1 Axes>"
      ]
     },
     "metadata": {
      "needs_background": "light"
     },
     "output_type": "display_data"
    }
   ],
   "source": [
    "# Plotting population values\n",
    "plt.hist(population, bins = 15)"
   ]
  },
  {
   "cell_type": "markdown",
   "metadata": {},
   "source": [
    "Choosing random sample from the population using numpy function"
   ]
  },
  {
   "cell_type": "code",
   "execution_count": 6,
   "metadata": {},
   "outputs": [],
   "source": [
    "sample_size = 20\n",
    "total_sample = 100\n",
    "samples = np.random.choice(population, size = (total_sample, sample_size))"
   ]
  },
  {
   "cell_type": "code",
   "execution_count": 7,
   "metadata": {},
   "outputs": [
    {
     "data": {
      "text/plain": [
       "array([[32.43535878, 23.84268887, 17.95178373, ..., 87.59963387,\n",
       "        46.82160349, 48.98490231],\n",
       "       [31.83065308, 16.96673003, 37.00075377, ..., 61.55541178,\n",
       "        45.177331  , 11.29214194],\n",
       "       [47.59962163, 49.04452509, 36.33936327, ..., 44.35345508,\n",
       "        22.15699705, 29.08423861],\n",
       "       ...,\n",
       "       [12.45072419, 65.67888958, 48.75539938, ..., 20.5556957 ,\n",
       "        65.67888958, 41.85968968],\n",
       "       [31.69262022, 18.93698722, 15.36052874, ..., 11.2743383 ,\n",
       "        45.43085952, 61.69135779],\n",
       "       [18.98163737, 88.4313158 , 32.15357098, ..., 35.3338378 ,\n",
       "        71.8887587 , 23.24827103]])"
      ]
     },
     "execution_count": 7,
     "metadata": {},
     "output_type": "execute_result"
    }
   ],
   "source": [
    "## Showing samples which extracted from samples\n",
    "samples"
   ]
  },
  {
   "cell_type": "code",
   "execution_count": 21,
   "metadata": {
    "scrolled": true
   },
   "outputs": [
    {
     "data": {
      "text/plain": [
       "array([28.68301869, 32.14392026, 29.35280969, 38.27356269, 30.52920935,\n",
       "       26.1014255 , 27.11466364, 29.82010125, 24.70583427, 33.41747074,\n",
       "       26.18192493, 34.38328786, 28.0203077 , 28.27240228, 35.04745084,\n",
       "       30.75542533, 42.23773349, 30.51050844, 26.98406144, 32.31927827,\n",
       "       30.92673838, 31.70512656, 36.55208556, 31.96360347, 26.50083412,\n",
       "       28.94398053, 24.62428847, 30.4591871 , 27.48786522, 27.06966599,\n",
       "       38.66849533, 30.11892323, 29.46017245, 30.52385341, 34.1934934 ,\n",
       "       29.04492959, 34.50914711, 30.62594902, 32.35004383, 34.97460689,\n",
       "       31.12798643, 28.2091372 , 25.76795446, 35.50684214, 30.38946472,\n",
       "       32.1281866 , 33.79287834, 27.7801059 , 35.72423353, 23.1545742 ,\n",
       "       33.43238204, 34.04188072, 30.50603703, 34.47718876, 29.54907752,\n",
       "       28.61162619, 34.96124351, 29.59535574, 32.17949835, 31.88588983,\n",
       "       26.89973809, 28.70486405, 30.1397143 , 31.02839177, 30.0681753 ,\n",
       "       32.78200689, 29.29768246, 35.41785599, 28.8268089 , 32.66322564,\n",
       "       25.4809863 , 26.70931327, 32.48448984, 29.46544933, 32.77586304,\n",
       "       30.27345559, 25.79265215, 31.78039479, 31.87351574, 33.23450696,\n",
       "       27.78543257, 28.96918691, 31.91716584, 34.64123522, 34.0230047 ,\n",
       "       33.85005647, 30.78180878, 32.36728266, 30.63528814, 34.35703771,\n",
       "       33.44190159, 28.57936583, 24.94064297, 31.92114528, 28.8146027 ,\n",
       "       26.80350115, 27.48815622, 31.51523776, 25.81797093, 30.75479519])"
      ]
     },
     "execution_count": 21,
     "metadata": {},
     "output_type": "execute_result"
    }
   ],
   "source": [
    "# Calculating the value of individual sample using our estimator\n",
    "\n",
    "## Creating a lambda function for the estimator\n",
    "mode_estimator = lambda x: np.sqrt((np.sum(x**2)) / (2 * x.shape[0]))\n",
    "sample_mode = np.apply_along_axis(mode_estimator, arr = samples, axis = 1)\n",
    "sample_mode"
   ]
  },
  {
   "cell_type": "code",
   "execution_count": 22,
   "metadata": {},
   "outputs": [
    {
     "data": {
      "text/plain": [
       "(array([ 4., 10., 16., 25., 19., 15.,  7.,  2.,  1.,  1.]),\n",
       " array([23.1545742 , 25.06289013, 26.97120606, 28.87952199, 30.78783792,\n",
       "        32.69615385, 34.60446978, 36.5127857 , 38.42110163, 40.32941756,\n",
       "        42.23773349]),\n",
       " <a list of 10 Patch objects>)"
      ]
     },
     "execution_count": 22,
     "metadata": {},
     "output_type": "execute_result"
    },
    {
     "data": {
      "image/png": "[encoded data removed]",
      "text/plain": [
       "<Figure size 432x288 with 1 Axes>"
      ]
     },
     "metadata": {
      "needs_background": "light"
     },
     "output_type": "display_data"
    }
   ],
   "source": [
    "## Plotting the histogram for sample means\n",
    "plt.hist(sample_mode)"
   ]
  },
  {
   "cell_type": "code",
   "execution_count": 23,
   "metadata": {},
   "outputs": [
    {
     "name": "stdout",
     "output_type": "stream",
     "text": [
      "Best estimated value for natural parameter of rayleigh distribution: 30.73\n"
     ]
    }
   ],
   "source": [
    "## Taking the mean of all sample means\n",
    "best_mode_estimate = np.mean(sample_mode)\n",
    "print ('Best estimated value for natural parameter of rayleigh distribution: %.2f'%best_mode_estimate)"
   ]
  },
  {
   "cell_type": "code",
   "execution_count": 24,
   "metadata": {},
   "outputs": [
    {
     "name": "stdout",
     "output_type": "stream",
     "text": [
      "Error between real value and estimated value -0.73\n"
     ]
    }
   ],
   "source": [
    "bias = mode_val - best_mode_estimate\n",
    "print ('Error between real value and estimated value %.2f'%bias)"
   ]
  },
  {
   "cell_type": "code",
   "execution_count": null,
   "metadata": {},
   "outputs": [],
   "source": []
  }
 ],
 "metadata": {
  "kernelspec": {
   "display_name": "Python 3",
   "language": "python",
   "name": "python3"
  },
  "language_info": {
   "codemirror_mode": {
    "name": "ipython",
    "version": 3
   },
   "file_extension": ".py",
   "mimetype": "text/x-python",
   "name": "python",
   "nbconvert_exporter": "python",
   "pygments_lexer": "ipython3",
   "version": "3.6.8"
  }
 },
 "nbformat": 4,
 "nbformat_minor": 2
}
