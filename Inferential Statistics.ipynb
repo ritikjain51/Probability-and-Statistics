{
 "cells": [
  {
   "cell_type": "markdown",
   "metadata": {},
   "source": [
    "## Inferential Statistics\n",
    "Inferential statistics refers to extract valuable information about the population from a random sample. \n"
   ]
  },
  {
   "cell_type": "markdown",
   "metadata": {},
   "source": [
    "There are two application of Inferential statistics:\n",
    "- Getting inference about population from sample.\n",
    "- To estimating the natural parameters of any probability distribution.\n",
    "\n"
   ]
  },
  {
   "cell_type": "markdown",
   "metadata": {},
   "source": [
    "For get the inference about the population we use *Sampling Distribution*.<br>\n",
    "**Sampling distribution**\n",
    "Sampling distribution is the probability distribution of a given random sample-based statistics. Where we have to select multiple samples from population, it also known as Repeated sampling. \n",
    "\n",
    "\n"
   ]
  },
  {
   "cell_type": "code",
   "execution_count": 6,
   "metadata": {},
   "outputs": [],
   "source": [
    "import numpy as np\n",
    "import matplotlib.pyplot as plt \n",
    "%matplotlib inline"
   ]
  },
  {
   "cell_type": "markdown",
   "metadata": {},
   "source": [
    "For now, we are discussing about second application of inferential statistics. Where we have to estimate natural parameters of any probability distribution. \n",
    "\n",
    "To estimate the natural parameter, we are using sampling distribution, give inference(information) about the population. Because we can not get the real values of population. So we take samples from population and perform some statistics on those samples, then we will get the estimated values of the natural parameter. \n"
   ]
  },
  {
   "cell_type": "markdown",
   "metadata": {},
   "source": []
  }
 ],
 "metadata": {
  "kernelspec": {
   "display_name": "Python 3",
   "language": "python",
   "name": "python3"
  },
  "language_info": {
   "codemirror_mode": {
    "name": "ipython",
    "version": 3
   },
   "file_extension": ".py",
   "mimetype": "text/x-python",
   "name": "python",
   "nbconvert_exporter": "python",
   "pygments_lexer": "ipython3",
   "version": "3.6.8"
  }
 },
 "nbformat": 4,
 "nbformat_minor": 2
}
