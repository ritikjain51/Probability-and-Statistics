{
 "cells": [
  {
   "cell_type": "code",
   "execution_count": 3,
   "metadata": {},
   "outputs": [],
   "source": [
    "import numpy as np\n",
    "import matplotlib.pyplot as plt\n",
    "%matplotlib inline"
   ]
  },
  {
   "cell_type": "code",
   "execution_count": 4,
   "metadata": {},
   "outputs": [],
   "source": [
    "lambdaValue = 10\n",
    "N = 1000, 10\n",
    "sampleValue = np.random.poisson(lambdaValue, N)"
   ]
  },
  {
   "cell_type": "code",
   "execution_count": 5,
   "metadata": {},
   "outputs": [
    {
     "data": {
      "text/plain": [
       "array([[15, 15, 10, ..., 13, 12, 11],\n",
       "       [15,  8,  8, ..., 10, 13, 11],\n",
       "       [10, 16,  8, ..., 12,  6, 10],\n",
       "       ...,\n",
       "       [ 6, 11, 11, ..., 13, 15, 10],\n",
       "       [13, 10, 11, ...,  5, 17,  6],\n",
       "       [ 9, 10, 10, ..., 12,  9,  8]])"
      ]
     },
     "execution_count": 5,
     "metadata": {},
     "output_type": "execute_result"
    }
   ],
   "source": [
    "sampleValue"
   ]
  },
  {
   "cell_type": "code",
   "execution_count": 6,
   "metadata": {},
   "outputs": [],
   "source": [
    "sampleMean = np.mean(sampleValue, axis = 1)"
   ]
  },
  {
   "cell_type": "code",
   "execution_count": 8,
   "metadata": {},
   "outputs": [
    {
     "data": {
      "text/plain": [
       "array([11.4, 11.1,  9.8, 10.7, 10.7,  9.8,  9.5,  9.3, 10.1, 11.7, 10.2,\n",
       "       10.5,  9.8, 10.1, 10.8,  9.6, 10.4, 10.7, 10.3, 11.6, 10.3, 10.7,\n",
       "        9.3, 10.1,  9.2, 10.6,  9. , 12.1, 10. ,  9.5,  8.9, 11.1, 11. ,\n",
       "       10.5, 10.4,  8. , 11.6, 11.1, 10.9, 11.2,  9.3, 10. ,  9.9, 10.9,\n",
       "       10.5, 10.8, 11. ,  9.2,  9.4, 10.7, 10.1, 11.1,  8.9,  9.5, 11.1,\n",
       "        9.5, 10.5,  9.2, 10. , 11.4,  9.3, 10. , 10.3,  9.5, 11.3, 10.4,\n",
       "       10.4, 10.7, 10.3, 12.2, 10. ,  9.9,  9.6, 12. ,  8.9, 10.8,  8.3,\n",
       "       10.9, 10.3, 10. , 10.1, 10. ,  8.5,  9.1, 10.8, 11.5,  9.7, 11.4,\n",
       "        9.9, 10.2, 11.8,  9.8, 11.5, 10.6,  9.7, 12.8, 10.8, 10.5,  9.9,\n",
       "       10. ,  9.6, 11.2,  9. , 10.4,  9.7,  8.1, 10. , 10.4,  9.9,  9. ,\n",
       "        8.5,  8.2,  9.9, 12.6, 10.4, 10.5,  9.6, 10.6,  9.6, 10.3, 10.4,\n",
       "       11.4, 10.6,  8.8,  9.7,  9.9, 10.6, 10.2,  9.3,  9.5, 10.5,  8. ,\n",
       "       11.5, 11. ,  9.5,  8.9,  8.5, 10.5, 11.2,  8. ,  7.8, 10.8,  9.1,\n",
       "       10.5,  9.5, 11.1,  8.8,  9.7, 10.1,  9.2,  7.9,  9.7,  8.9, 10. ,\n",
       "       11.3,  9.3, 11.5, 10.6, 10.4, 12.2, 10.1,  9.8,  9.8,  9.7, 10.2,\n",
       "        8.9,  7.7,  9. , 10.6,  9.7,  9.1,  9.8,  9.8,  9.9, 10.8, 10.5,\n",
       "        9.5, 11.1, 10.7,  9.5,  8.5, 10.7,  9.8, 10.4, 11.2, 11.3,  9.1,\n",
       "        8.6,  9.3,  8.2,  9.9, 10.7, 10.1, 10.8, 10.9, 11.1,  9.9, 10.3,\n",
       "        8.5,  9. ,  9.8,  9.7,  9.9, 10.4,  8.9, 12.2, 10.5,  9.1, 10.2,\n",
       "       11.5,  9.3, 11.2, 10.7, 10. , 12.7, 10.9,  9.8,  9.9, 10.4,  8.3,\n",
       "       10.5, 10.3, 10.2,  9.9, 10. ,  9.6,  9.8, 11. ,  8.6,  8.6,  8.7,\n",
       "       10.3, 10.1, 11.2,  9.4,  9.2,  9.9,  9. ,  8.8,  9.8,  9.6, 10. ,\n",
       "       10.6, 10.3, 10.3, 10. ,  8.1, 10.3,  9.4,  9.4, 10.9, 11. , 10. ,\n",
       "       10.2, 10.3,  9.4,  6.7, 10.1, 10.2,  8.8, 10.8,  9.3, 10.3,  9.3,\n",
       "       10.6, 10.4, 10. , 10.6,  8.9, 10.9,  9.7,  9. , 12.6,  9.6,  9.2,\n",
       "        9.7, 11.1, 10.6, 11.5, 10. ,  7.1,  8.2, 10.4, 10.7, 10.5, 11.3,\n",
       "       10.6, 10.1, 10. , 10.3, 10.8, 10.2, 10.9,  9.4,  9.6, 10.8, 11.3,\n",
       "        7.3, 11.6,  8.7, 10.4, 11.3,  9.8, 10.8,  8. ,  8.4, 10.3, 11.5,\n",
       "       10.5, 10.9,  8.8, 11.1, 11.5,  9.7,  9.6, 10.6, 10.2, 10. ,  9.6,\n",
       "       10.1,  8.5,  9.3,  9.6, 10. , 10.2, 10.7,  9.5,  8.9,  9.5, 10.2,\n",
       "        8.7,  8.4, 10.4, 12.6, 11.1, 10.5,  8.9, 11.2, 10.1,  9.9, 12.8,\n",
       "       10.4,  8.7, 11.9,  9.7,  9.3,  9.5,  9.6, 11.1, 11.2, 10. ,  7.8,\n",
       "        7.9,  9.1,  8.7, 10.1, 10.3,  8.7, 10.7, 10.4,  8.9,  9.3, 10.5,\n",
       "       10.1,  9.7, 11.1,  9.6,  9.9, 10.2,  9.6, 10.6, 10.3, 10.6,  8.1,\n",
       "       11.9, 11.1, 11.3, 10.9, 10.3,  9.1,  9.4, 11.5, 10.4,  8.7, 10.4,\n",
       "        9.1,  9.7,  9.2,  8.1,  8.7,  7.8,  9.5, 10.4,  8.8, 11.7, 10.8,\n",
       "       10.5, 10.6, 10.1, 11.1, 10.6, 11.1,  9.3, 10.3,  9.3, 11.1,  9.8,\n",
       "        9.4,  9.9,  9.9,  9.9, 10.4, 12.1, 10.9,  9.6, 11. ,  9.3, 10.9,\n",
       "       10.5, 11.1, 10.6,  8.7, 10.3,  9.7, 10.3, 10.3, 11. ,  9.7, 10.9,\n",
       "       10.7,  8.1, 11.7, 10.9,  8. ,  8.6,  8.1, 10.2, 11. ,  8.8,  8.5,\n",
       "        9.7,  9.8,  9.1,  9.5,  9.3,  9.4,  9.6,  9.8, 11. ,  8.8,  9.6,\n",
       "        8.6,  9.2, 10.6, 10.8,  9.1, 11. , 10.7,  9.1, 11.1, 10.3,  8.5,\n",
       "       12.4,  8.9,  8.8, 10.1,  9.3,  7.6, 10.1,  9.6, 10.3, 10.3, 10.2,\n",
       "       10.4, 11.6, 11. , 11.5, 10.7,  8.4,  8.7, 10.7, 10. , 10.4,  9.8,\n",
       "       12.3, 10.1, 10.9,  9.4,  9.4,  9.9, 10.3, 11.8, 10.3,  9.8, 10.9,\n",
       "        9. , 11.4, 11.2, 10. ,  9.2, 11.7,  9.1,  9.5,  9.7,  9.8,  9.4,\n",
       "        8.7,  9.1,  9.7, 10.9, 10.1,  9.3,  9.5,  8.7, 11.1, 11.3, 10.5,\n",
       "        9.6, 10.5, 10.5,  9.8,  9.4,  8. ,  9. , 10.3,  9.9, 10.4,  8.8,\n",
       "       11.3, 10.1, 11. ,  8.9,  9.3, 10.1, 11.1,  9.5,  9.4, 11.4, 11.1,\n",
       "        8.8, 11.4, 11.5,  9.9,  8.7, 10.4, 10.6,  8. , 10.1, 10.3,  9.5,\n",
       "        9.5,  9.2, 10.6,  9.7,  9.4, 10. , 10.3,  9. ,  9.5, 11. ,  9.2,\n",
       "        9.3, 10. , 10.4, 10.8, 10.2, 10.6,  8.9,  9.7, 10.1,  8.5,  9.2,\n",
       "        8.7,  8.1, 10.3, 10.3,  9.9, 10. , 10.1, 10.8, 10.5,  8.4,  8.7,\n",
       "        8.2,  9.8,  9.5, 10.3,  9.8, 10.6, 11.3, 10.6, 11.4,  9.1,  9.1,\n",
       "        8.6, 10.5, 10.8, 10. , 10.5, 10.3, 10.3,  9. ,  8.8,  9.6,  9.6,\n",
       "       10. , 12. ,  8.7, 10.8,  9. ,  9.6,  9.6, 10.4,  9.8,  9. , 10. ,\n",
       "       10.1, 10. , 12.7,  9. , 10.7, 10. ,  9.5, 10.4, 11.7, 10.6, 10. ,\n",
       "       11.3, 10.2,  9.1, 10.1,  8.3,  8.6, 12.2,  9.7,  9. ,  8.9,  9.6,\n",
       "       11.2, 11.3,  8.1,  9.9, 10.7,  8.3,  9.3,  8.4,  8.8, 10. , 10.2,\n",
       "       10. , 11.1, 10.4,  9.7,  9.7, 10.7,  8.5, 11.1, 10.4,  8.8, 10. ,\n",
       "       11.3, 10.2, 10.9, 10.6, 12.3, 12.1, 11.6,  9.4, 10.1,  9.2,  9.7,\n",
       "       10.3, 10.3,  9.8,  9.8, 10.3,  9.9,  9.8, 11.4, 10.7, 11.5, 11.4,\n",
       "        9.8, 10.1, 10. , 10.1, 10.8, 10.6,  9.1, 10.5,  9.7, 10.3,  9.2,\n",
       "        8.2, 12.2, 10.4, 10.1,  8.3,  7.9,  8.8, 11.5, 10.2,  9.5,  8.8,\n",
       "       11. , 10.6, 11.4,  9.5,  8.9, 10.3,  9.7,  9.9, 12.1, 10. ,  8. ,\n",
       "        9.2, 10.5, 10.9, 10.7, 11.8, 10. , 10.2, 10.7,  9. ,  9.3,  9.5,\n",
       "        9.7, 10.5,  9.1,  9.4, 10.9,  9.4,  8.5,  9.5,  9.9, 10. , 10.1,\n",
       "       13. , 12.2,  9.7, 10.5,  9.5,  8.6,  8.8, 10.6,  9.4,  9.3, 10.3,\n",
       "       11.2,  9.4, 10.5,  7.9, 10.8, 11.9,  8.8, 11.7, 10.2,  9.5,  9.7,\n",
       "       10.8,  8.2,  9.8, 11.2,  9.8,  9.5,  8.4, 12.3,  9.6,  8.1,  8.9,\n",
       "       12.6, 10.5,  8.4, 10.1, 11. , 10.3,  8.8, 10.9,  8.6,  8.6,  8.7,\n",
       "        8.5,  8.8,  9.3, 10.2, 11.3, 10.5,  9.6, 10.1,  9.7,  9.7,  9.1,\n",
       "       11.1,  9.2, 10.1, 11.8,  9.5,  9.6,  9. ,  8.9,  9.1,  9.1,  9.4,\n",
       "        9.1,  9.2, 10.1,  9.7, 12.1, 11.4, 10.4,  9.6, 10.7,  9.2,  9.1,\n",
       "        8.6, 12.1, 10.2, 10.3, 12.4,  8.2, 10.6,  7.3, 10.2,  8.8,  9.4,\n",
       "       10.9,  9.2,  8.6, 10.7,  8.2, 10.4, 10.3, 11. , 11. ,  8.2, 10.8,\n",
       "       10.8,  9.9,  8.4,  9.3,  9.5,  8.7,  9.4, 10.8, 11.6,  9.9, 10.4,\n",
       "        9.9,  9.9,  9.4,  7.4,  9.2,  8.2, 11.2,  9.2,  9.7,  9.7, 10.7,\n",
       "        8.6,  9.2, 10.4,  9.2,  8.8,  9.8,  9.4,  9.7,  8.7,  9.8,  8.8,\n",
       "        9.1, 10.6, 11.1, 10.9, 10.1,  9.2,  9.1,  9.5,  9.4,  9.9, 10.4,\n",
       "        9.5, 10.2, 10.7, 10.5, 10.1, 12. ,  9.9, 10.7,  8.6,  9.8, 10.1,\n",
       "       10.9, 11. , 11.3,  9.6, 11. ,  9.7,  9.9, 11.8, 10.3, 12.6,  9.7,\n",
       "        9.5,  9.3,  9.7,  9.7,  9.2, 11.3,  8.2,  8.7, 10.9,  9.9, 10.4,\n",
       "        9.1,  9.7, 10.6, 11.6, 10.6, 11.5, 10.5,  9.6,  9.1,  8.3, 11.3,\n",
       "        8.7, 10.1,  8.3,  9.4, 12.9,  9.7,  9.5, 11.1,  9.6,  8.7, 11.1,\n",
       "       10.4, 11.7,  8.6, 11.7,  9.7, 10.3, 10.3,  9.8,  8.7,  8.2, 10.6,\n",
       "       10.5,  8. ,  9.1, 11.2, 10.8,  8.2, 10.5,  9.8, 11. ,  8.6, 10.9,\n",
       "       10.1,  7.5, 11.1, 12. ,  9.1,  9.2,  9. ,  8.7, 10.3, 10.9, 10.5,\n",
       "        8.3,  9.9,  9.2,  8.1, 11.1,  8.4,  9.5,  9.8,  9.8,  9.6, 10.8,\n",
       "       10.4, 11.7, 10.2,  8.7, 10. , 10.2, 10.6,  9.1,  9.5,  9.5, 10.9,\n",
       "       10.8,  8.6, 11.5, 10.5, 11. ,  9.8, 11.4, 10.3,  9.8,  9.4])"
      ]
     },
     "execution_count": 8,
     "metadata": {},
     "output_type": "execute_result"
    }
   ],
   "source": [
    "sampleMean"
   ]
  },
  {
   "cell_type": "code",
   "execution_count": 9,
   "metadata": {},
   "outputs": [
    {
     "data": {
      "text/plain": [
       "(array([  4.,  11.,  61., 158., 210., 235., 206.,  75.,  27.,  13.]),\n",
       " array([ 6.7 ,  7.33,  7.96,  8.59,  9.22,  9.85, 10.48, 11.11, 11.74,\n",
       "        12.37, 13.  ]),\n",
       " <a list of 10 Patch objects>)"
      ]
     },
     "execution_count": 9,
     "metadata": {},
     "output_type": "execute_result"
    },
    {
     "data": {
      "image/png": "[encoded data removed]",
      "text/plain": [
       "<Figure size 432x288 with 1 Axes>"
      ]
     },
     "metadata": {
      "needs_background": "light"
     },
     "output_type": "display_data"
    }
   ],
   "source": [
    "plt.hist(sampleMean)"
   ]
  },
  {
   "cell_type": "code",
   "execution_count": 10,
   "metadata": {},
   "outputs": [
    {
     "data": {
      "text/plain": [
       "9.9907"
      ]
     },
     "execution_count": 10,
     "metadata": {},
     "output_type": "execute_result"
    }
   ],
   "source": [
    "np.mean(sampleMean)"
   ]
  },
  {
   "cell_type": "markdown",
   "metadata": {},
   "source": [
    "Writing own histogram for the variable"
   ]
  },
  {
   "cell_type": "code",
   "execution_count": 11,
   "metadata": {},
   "outputs": [],
   "source": [
    "minVal = np.min(sampleMean)\n",
    "maxVal = np.max(sampleMean)\n",
    "NumBin = 10\n",
    "\n",
    "binWidth = (maxVal - minVal) / NumBin"
   ]
  },
  {
   "cell_type": "code",
   "execution_count": 12,
   "metadata": {},
   "outputs": [
    {
     "data": {
      "text/plain": [
       "0.63"
      ]
     },
     "execution_count": 12,
     "metadata": {},
     "output_type": "execute_result"
    }
   ],
   "source": [
    "binWidth"
   ]
  },
  {
   "cell_type": "code",
   "execution_count": 13,
   "metadata": {},
   "outputs": [],
   "source": [
    "marker = np.arange(minVal, maxVal + binWidth, binWidth)"
   ]
  },
  {
   "cell_type": "code",
   "execution_count": 14,
   "metadata": {},
   "outputs": [
    {
     "data": {
      "text/plain": [
       "array([ 6.7 ,  7.33,  7.96,  8.59,  9.22,  9.85, 10.48, 11.11, 11.74,\n",
       "       12.37, 13.  ])"
      ]
     },
     "execution_count": 14,
     "metadata": {},
     "output_type": "execute_result"
    }
   ],
   "source": [
    "marker"
   ]
  },
  {
   "cell_type": "code",
   "execution_count": 15,
   "metadata": {},
   "outputs": [],
   "source": [
    "from math import floor\n",
    "freq = np.zeros(shape = len(marker))\n",
    "for val in sampleMean:\n",
    "    index = floor((val - minVal) / binWidth)\n",
    "    freq[index] += 1"
   ]
  },
  {
   "cell_type": "code",
   "execution_count": 16,
   "metadata": {},
   "outputs": [
    {
     "data": {
      "text/plain": [
       "array([  4.,  11.,  61., 158., 210., 235., 206.,  75.,  27.,  12.,   1.])"
      ]
     },
     "execution_count": 16,
     "metadata": {},
     "output_type": "execute_result"
    }
   ],
   "source": [
    "freq"
   ]
  },
  {
   "cell_type": "code",
   "execution_count": 25,
   "metadata": {},
   "outputs": [
    {
     "data": {
      "text/plain": [
       "Text(0.5, 1.0, 'Sampling Distribution for Poission Distribution')"
      ]
     },
     "execution_count": 25,
     "metadata": {},
     "output_type": "execute_result"
    },
    {
     "data": {
      "image/png": "[encoded data removed]",
      "text/plain": [
       "<Figure size 432x288 with 1 Axes>"
      ]
     },
     "metadata": {
      "needs_background": "light"
     },
     "output_type": "display_data"
    }
   ],
   "source": [
    "plt.bar(marker, freq)\n",
    "plt.plot(marker, freq, 'r--')\n",
    "plt.xlabel('Random Variable --->')\n",
    "plt.ylabel('Frequency--->')\n",
    "plt.title('Sampling Distribution for Poission Distribution')"
   ]
  },
  {
   "cell_type": "code",
   "execution_count": null,
   "metadata": {},
   "outputs": [],
   "source": []
  }
 ],
 "metadata": {
  "kernelspec": {
   "display_name": "Python 3",
   "language": "python",
   "name": "python3"
  },
  "language_info": {
   "codemirror_mode": {
    "name": "ipython",
    "version": 3
   },
   "file_extension": ".py",
   "mimetype": "text/x-python",
   "name": "python",
   "nbconvert_exporter": "python",
   "pygments_lexer": "ipython3",
   "version": "3.6.8"
  }
 },
 "nbformat": 4,
 "nbformat_minor": 2
}
