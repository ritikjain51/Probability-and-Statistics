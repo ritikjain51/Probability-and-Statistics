{
 "cells": [
  {
   "cell_type": "markdown",
   "metadata": {},
   "source": [
    "## Sampling Distribution\n",
    "\n",
    "So, here we are discussing about **Sampling distribution**. <br>Before that let's talk about what is sample?<br>A sample is a set of observation which are taken from total population. For e.g. We performed some experiement and generate observations in total $N = 100$million observation and we took a some of observation from whole population. That set of observation is known as a Sample. \n"
   ]
  },
  {
   "cell_type": "markdown",
   "metadata": {},
   "source": [
    "Sampling distribution of any sample Statistics. A Sampling Distribution can be defined as the distribution derived by extracting multiple samples repeatedly from a sample population.\n",
    "\n",
    "Repeated Sampling is randomly taking values from the same population repeatedly, resulting in samples with seemingly random values of same size."
   ]
  },
  {
   "cell_type": "markdown",
   "metadata": {},
   "source": [
    "Steps to perform sampling distribution:-\n",
    "\n",
    "1. Take $n$ samples from the population. \n",
    "2. Apply MVU estimator on every sample. \n",
    "3. "
   ]
  },
  {
   "cell_type": "code",
   "execution_count": 1,
   "metadata": {},
   "outputs": [],
   "source": [
    "import numpy as np\n",
    "import matplotlib.pyplot as plt\n",
    "from collections import Counter\n",
    "%matplotlib inline"
   ]
  },
  {
   "cell_type": "markdown",
   "metadata": {},
   "source": [
    "Let's take an example of throwing a dice. We are throwing a dice repeatedly millions of times. So, we have a large population size which is $N = 10000000$. Now, we are taking random samples of size $10$ and taking $1000$ samples repeatedly."
   ]
  },
  {
   "cell_type": "code",
   "execution_count": 2,
   "metadata": {},
   "outputs": [],
   "source": [
    "N = 10000000\n",
    "EachSampleSize = 10\n",
    "NumOfSample = 1000"
   ]
  },
  {
   "cell_type": "markdown",
   "metadata": {},
   "source": [
    "The probability distribution of throwing a dice is Uniform Distribution. So, we are taking sample from that distribution.\n",
    "\n",
    "Here we took a population "
   ]
  },
  {
   "cell_type": "code",
   "execution_count": 3,
   "metadata": {},
   "outputs": [
    {
     "data": {
      "text/plain": [
       "array([3, 4, 4, 2, 3, 2, 2, 1, 3, 6, 5, 2, 4, 5, 4, 4, 1, 3, 6, 2])"
      ]
     },
     "execution_count": 3,
     "metadata": {},
     "output_type": "execute_result"
    }
   ],
   "source": [
    "population = np.random.randint(1, 7, N)\n",
    "population[:20] ## Printing a sample of 20 values"
   ]
  },
  {
   "cell_type": "markdown",
   "metadata": {},
   "source": [
    "Now, let's take random samples from the population of size 10 each and we are taking total 1000 samples"
   ]
  },
  {
   "cell_type": "code",
   "execution_count": 4,
   "metadata": {},
   "outputs": [],
   "source": [
    "Sample = np.random.choice(population, (NumOfSample, EachSampleSize))"
   ]
  },
  {
   "cell_type": "code",
   "execution_count": 5,
   "metadata": {},
   "outputs": [
    {
     "data": {
      "text/plain": [
       "array([[4, 1, 6, ..., 4, 1, 4],\n",
       "       [3, 3, 5, ..., 3, 4, 1],\n",
       "       [5, 2, 1, ..., 3, 6, 2],\n",
       "       ...,\n",
       "       [5, 6, 6, ..., 6, 2, 3],\n",
       "       [1, 3, 3, ..., 1, 1, 6],\n",
       "       [6, 6, 3, ..., 2, 4, 3]])"
      ]
     },
     "execution_count": 5,
     "metadata": {},
     "output_type": "execute_result"
    }
   ],
   "source": [
    "Sample"
   ]
  },
  {
   "cell_type": "markdown",
   "metadata": {},
   "source": [
    "After choosing the random sample we have to use the MVU (Minimum variance unbaised) Estimator Function on each sample. For uniform distribution MVU Estimator is mean\n",
    "$$\\hat{\\mu} = \\frac{\\sum_{i=0}^N{x_i}}{N}$$\n",
    "So, we have to find Mean value for every sample. "
   ]
  },
  {
   "cell_type": "code",
   "execution_count": 6,
   "metadata": {},
   "outputs": [
    {
     "data": {
      "text/plain": [
       "array([3. , 3. , 3.2, 3.9, 3.2, 3.1, 3.8, 4.1, 3.5, 3.1, 3.8, 4.5, 3.2,\n",
       "       3.4, 4.3, 3.8, 4.1, 2.9, 4. , 3.7])"
      ]
     },
     "execution_count": 6,
     "metadata": {},
     "output_type": "execute_result"
    }
   ],
   "source": [
    "sampleMean = np.mean(Sample, axis = 1)\n",
    "sampleMean[:20] ## Printing Sample Mean values "
   ]
  },
  {
   "cell_type": "code",
   "execution_count": 7,
   "metadata": {},
   "outputs": [],
   "source": [
    "NumBin = 10\n",
    "minVal = np.min(sampleMean)\n",
    "maxVal = np.max(sampleMean)\n",
    "BinWidth = (maxVal - minVal) / NumBin"
   ]
  },
  {
   "cell_type": "code",
   "execution_count": 8,
   "metadata": {},
   "outputs": [
    {
     "data": {
      "text/plain": [
       "array([1.9 , 2.22, 2.54, 2.86, 3.18, 3.5 , 3.82, 4.14, 4.46, 4.78, 5.1 ,\n",
       "       5.42])"
      ]
     },
     "execution_count": 8,
     "metadata": {},
     "output_type": "execute_result"
    }
   ],
   "source": [
    "markValues = np.arange(minVal, (maxVal + BinWidth), BinWidth)\n",
    "markValues"
   ]
  },
  {
   "cell_type": "code",
   "execution_count": 9,
   "metadata": {},
   "outputs": [],
   "source": [
    "from math import floor\n",
    "freq = np.zeros(shape = len(markValues))\n",
    "for val in sampleMean:\n",
    "    index = floor((val - minVal) / BinWidth)\n",
    "    freq[index] += 1"
   ]
  },
  {
   "cell_type": "code",
   "execution_count": 10,
   "metadata": {},
   "outputs": [
    {
     "data": {
      "text/plain": [
       "array([ 12.,  30.,  67., 144., 216., 254., 168.,  78.,  24.,   6.,   1.,\n",
       "         0.])"
      ]
     },
     "execution_count": 10,
     "metadata": {},
     "output_type": "execute_result"
    }
   ],
   "source": [
    "freq"
   ]
  },
  {
   "cell_type": "code",
   "execution_count": 11,
   "metadata": {},
   "outputs": [
    {
     "data": {
      "text/plain": [
       "[<matplotlib.lines.Line2D at 0x1f6f583fa90>]"
      ]
     },
     "execution_count": 11,
     "metadata": {},
     "output_type": "execute_result"
    },
    {
     "data": {
      "image/png": "[encoded data removed]",
      "text/plain": [
       "<Figure size 432x288 with 1 Axes>"
      ]
     },
     "metadata": {
      "needs_background": "light"
     },
     "output_type": "display_data"
    }
   ],
   "source": [
    "plt.bar(markValues,freq)\n",
    "plt.plot(markValues, freq, 'r--')"
   ]
  },
  {
   "cell_type": "markdown",
   "metadata": {},
   "source": [
    "We have to take the mean value for finding the best values."
   ]
  },
  {
   "cell_type": "code",
   "execution_count": 12,
   "metadata": {},
   "outputs": [],
   "source": [
    "ExpectedValue = np.mean(sampleMean)"
   ]
  },
  {
   "cell_type": "code",
   "execution_count": 13,
   "metadata": {},
   "outputs": [
    {
     "data": {
      "text/plain": [
       "3.5015"
      ]
     },
     "execution_count": 13,
     "metadata": {},
     "output_type": "execute_result"
    }
   ],
   "source": [
    "ExpectedValue"
   ]
  },
  {
   "cell_type": "markdown",
   "metadata": {},
   "source": [
    "Let's take another example of Normal Distribution"
   ]
  },
  {
   "cell_type": "code",
   "execution_count": 14,
   "metadata": {},
   "outputs": [],
   "source": [
    "N = 1000\n",
    "meanValue = 26\n",
    "sigma = 2"
   ]
  },
  {
   "cell_type": "code",
   "execution_count": 15,
   "metadata": {},
   "outputs": [
    {
     "data": {
      "text/plain": [
       "array([23.91969693, 27.22501523, 25.93726759, 29.41930746, 26.61424481,\n",
       "       26.63993508, 23.89346242, 24.46727525, 23.36544339, 24.4285765 ,\n",
       "       26.6773027 , 27.49108034, 24.07194911, 29.03015542, 27.95949595,\n",
       "       25.80530484, 27.16428562, 18.90555078, 26.60094465, 23.75955634])"
      ]
     },
     "execution_count": 15,
     "metadata": {},
     "output_type": "execute_result"
    }
   ],
   "source": [
    "population = np.random.normal(loc = meanValue, scale = sigma, size = N)\n",
    "population[:20]"
   ]
  },
  {
   "cell_type": "code",
   "execution_count": 16,
   "metadata": {},
   "outputs": [
    {
     "data": {
      "text/plain": [
       "array([25.21608845, 27.40734627, 28.25281907, 26.01685797, 24.91247464,\n",
       "       23.6934565 , 28.51649958, 26.11046117, 25.62215244, 27.19847886])"
      ]
     },
     "execution_count": 16,
     "metadata": {},
     "output_type": "execute_result"
    }
   ],
   "source": [
    "sample = np.random.choice(population, (1000, 10))\n",
    "sample[0] ## One sample"
   ]
  },
  {
   "cell_type": "code",
   "execution_count": 17,
   "metadata": {},
   "outputs": [],
   "source": [
    "sampleMean = np.mean(sample, axis = 1)"
   ]
  },
  {
   "cell_type": "code",
   "execution_count": 18,
   "metadata": {},
   "outputs": [],
   "source": [
    "NumBin = 10\n",
    "minVal = np.min(sampleMean)\n",
    "maxVal = np.max(sampleMean)\n",
    "BinWidth = (maxVal - minVal) / NumBin"
   ]
  },
  {
   "cell_type": "code",
   "execution_count": 19,
   "metadata": {},
   "outputs": [
    {
     "data": {
      "text/plain": [
       "array([24.06233237, 24.44654138, 24.8307504 , 25.21495941, 25.59916842,\n",
       "       25.98337743, 26.36758645, 26.75179546, 27.13600447, 27.52021348,\n",
       "       27.90442249])"
      ]
     },
     "execution_count": 19,
     "metadata": {},
     "output_type": "execute_result"
    }
   ],
   "source": [
    "markValues = np.arange(minVal, (maxVal + BinWidth), BinWidth)\n",
    "markValues"
   ]
  },
  {
   "cell_type": "code",
   "execution_count": 20,
   "metadata": {},
   "outputs": [],
   "source": [
    "from math import floor\n",
    "freq = np.zeros(shape = len(markValues))\n",
    "for val in sampleMean:\n",
    "    index = floor((val - minVal) / BinWidth)\n",
    "    freq[index] += 1"
   ]
  },
  {
   "cell_type": "code",
   "execution_count": 21,
   "metadata": {},
   "outputs": [
    {
     "data": {
      "text/plain": [
       "[<matplotlib.lines.Line2D at 0x1f6f8197f60>]"
      ]
     },
     "execution_count": 21,
     "metadata": {},
     "output_type": "execute_result"
    },
    {
     "data": {
      "image/png": "[encoded data removed]",
      "text/plain": [
       "<Figure size 432x288 with 1 Axes>"
      ]
     },
     "metadata": {
      "needs_background": "light"
     },
     "output_type": "display_data"
    }
   ],
   "source": [
    "plt.bar(markValues,freq)\n",
    "plt.plot(markValues, freq, 'r--')"
   ]
  },
  {
   "cell_type": "code",
   "execution_count": 22,
   "metadata": {},
   "outputs": [
    {
     "data": {
      "text/plain": [
       "26.00061761817494"
      ]
     },
     "execution_count": 22,
     "metadata": {},
     "output_type": "execute_result"
    }
   ],
   "source": [
    "np.mean(sampleMean)"
   ]
  },
  {
   "cell_type": "code",
   "execution_count": 23,
   "metadata": {},
   "outputs": [
    {
     "data": {
      "text/plain": [
       "array([25.71395861, 27.41887435, 27.49376219, 23.00155106, 26.42017639,\n",
       "       28.41687936, 24.70785523, 27.52665827, 25.18765427, 23.7534545 ])"
      ]
     },
     "execution_count": 23,
     "metadata": {},
     "output_type": "execute_result"
    }
   ],
   "source": [
    "population = np.random.normal(loc = meanValue, scale = sigma, size = N)\n",
    "sample = np.random.choice(population, (1000, 10))\n",
    "sample[0] ## One sample"
   ]
  },
  {
   "cell_type": "markdown",
   "metadata": {},
   "source": [
    "So, now we are finding the sampling distribution for Standard Deviation $\\sigma$. \n",
    "To find best value of ($\\sigma$) is:\n",
    "$$\\sigma = \\sqrt{\\frac{\\sum_{i = 0}^{N}x_i}{N}}$$"
   ]
  },
  {
   "cell_type": "code",
   "execution_count": 24,
   "metadata": {},
   "outputs": [
    {
     "data": {
      "text/plain": [
       "1.7037956087893809"
      ]
     },
     "execution_count": 24,
     "metadata": {},
     "output_type": "execute_result"
    }
   ],
   "source": [
    "SampleStdDev = np.std(sample, axis = 1)\n",
    "SampleStdDev[0]"
   ]
  },
  {
   "cell_type": "code",
   "execution_count": 25,
   "metadata": {},
   "outputs": [
    {
     "data": {
      "text/plain": [
       "(array([  2.,  19.,  83., 184., 269., 224., 128.,  62.,  23.,   6.]),\n",
       " array([0.46475877, 0.73353993, 1.00232109, 1.27110225, 1.5398834 ,\n",
       "        1.80866456, 2.07744572, 2.34622687, 2.61500803, 2.88378919,\n",
       "        3.15257035]),\n",
       " <a list of 10 Patch objects>)"
      ]
     },
     "execution_count": 25,
     "metadata": {},
     "output_type": "execute_result"
    },
    {
     "data": {
      "image/png": "[encoded data removed]",
      "text/plain": [
       "<Figure size 432x288 with 1 Axes>"
      ]
     },
     "metadata": {
      "needs_background": "light"
     },
     "output_type": "display_data"
    }
   ],
   "source": [
    "plt.hist(SampleStdDev)"
   ]
  },
  {
   "cell_type": "code",
   "execution_count": 26,
   "metadata": {},
   "outputs": [
    {
     "data": {
      "text/plain": [
       "1.7777418866819998"
      ]
     },
     "execution_count": 26,
     "metadata": {},
     "output_type": "execute_result"
    }
   ],
   "source": [
    "stdDev = np.mean(SampleStdDev)\n",
    "stdDev"
   ]
  },
  {
   "cell_type": "markdown",
   "metadata": {},
   "source": [
    "Here, we get the mean value for an Uniform Distribution. \n",
    "\n",
    "Sampling Distribution is always used to estimate the natural parameters of any probability distribution. \n",
    "We will discuss this later in Maximum likelihood Estimation."
   ]
  }
 ],
 "metadata": {
  "kernelspec": {
   "display_name": "Python 3",
   "language": "python",
   "name": "python3"
  },
  "language_info": {
   "codemirror_mode": {
    "name": "ipython",
    "version": 3
   },
   "file_extension": ".py",
   "mimetype": "text/x-python",
   "name": "python",
   "nbconvert_exporter": "python",
   "pygments_lexer": "ipython3",
   "version": "3.6.8"
  }
 },
 "nbformat": 4,
 "nbformat_minor": 2
}
