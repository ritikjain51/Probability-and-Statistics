{
 "cells": [
  {
   "cell_type": "markdown",
   "metadata": {},
   "source": [
    "## Normal Distribution\n",
    "In this notebook, we are going to discuss about normal distribution and Standard Normal Distribution. \n",
    "*Normal Distribution*: Normal distribution is most common type of continuous probability distribution which also known as Gaussian Distribution. When we are visualizing or plotting a sample of normal random variables, it always gives a symmetric graph which highest mean value. \n",
    "\n",
    "For performing the experiment we are taking some random sample data. \n"
   ]
  },
  {
   "cell_type": "code",
   "execution_count": 1,
   "metadata": {},
   "outputs": [],
   "source": [
    "import numpy as np\n",
    "import matplotlib.pyplot as plt\n",
    "import scipy.stats as S\n",
    "%matplotlib inline"
   ]
  },
  {
   "cell_type": "markdown",
   "metadata": {
    "collapsed": true
   },
   "source": [
    "I am using numpy for taking normal distributed random data. Later i will implement Inverse Transform Sampling to show how numpy generate random data. \n",
    "Let's take a example of *Population's BMI (Body Mass Index)*. I am going to take bmi values for population. which always ranging from 18.5 to 25 $kg/m^2$. \n",
    "Taking a sample of 1000 people. N = 1000\n",
    "With a random mean of 22. $\\mu = 22$ and standard deviation of 2. $\\sigma = 2$.\n"
   ]
  },
  {
   "cell_type": "code",
   "execution_count": 2,
   "metadata": {},
   "outputs": [],
   "source": [
    "N = 1000\n",
    "mu = 22\n",
    "sigma = 2"
   ]
  },
  {
   "cell_type": "code",
   "execution_count": 3,
   "metadata": {},
   "outputs": [],
   "source": [
    "#Let's generate random data.\n",
    "sample_data = np.random.normal(loc = mu, scale = sigma, size = N)"
   ]
  },
  {
   "cell_type": "code",
   "execution_count": 4,
   "metadata": {},
   "outputs": [
    {
     "data": {
      "text/plain": [
       "array([21.79329116, 24.97551139, 21.07148119, 24.31855219, 22.93829755,\n",
       "       21.92719786, 23.14450734, 24.40966609, 24.13156801, 23.04442933,\n",
       "       25.08369881, 21.31872879, 24.07710841, 21.3925978 , 20.23856043,\n",
       "       23.57471344, 20.28568493, 19.79302065, 22.68931364, 23.45669278,\n",
       "       20.12016089, 25.06593044, 20.79896198, 24.0006755 , 18.034057  ,\n",
       "       21.61875622, 20.91918407, 24.09439937, 23.31724855, 18.60698045,\n",
       "       20.6718334 , 22.18212666, 24.50463282, 23.28664376, 21.99678857,\n",
       "       22.40344639, 26.13647247, 16.73594584, 20.00257202, 23.52448082,\n",
       "       23.47998772, 22.00925532, 23.84170979, 23.02631197, 22.45737499,\n",
       "       24.31543308, 22.65323592, 23.84078562, 24.32970809, 24.12456445,\n",
       "       24.44956657, 20.14157902, 22.48286487, 22.97818405, 20.46909219,\n",
       "       21.74006655, 21.12986467, 22.4607151 , 22.35993245, 21.47182037,\n",
       "       20.28271436, 23.38774368, 22.35156591, 22.11492291, 19.93200765,\n",
       "       20.64994037, 24.95760353, 21.31710229, 20.62433026, 23.96082837,\n",
       "       20.54038756, 25.11893197, 20.07430796, 21.03396015, 24.48781368,\n",
       "       21.06265497, 22.8017924 , 21.42712027, 20.9969534 , 23.91696468,\n",
       "       22.58694064, 23.54225348, 20.8743358 , 21.77597622, 25.26313146,\n",
       "       21.23462033, 21.92648854, 22.7343277 , 19.62909308, 22.0022115 ,\n",
       "       23.09600428, 20.70813429, 18.7198094 , 20.61098233, 22.53792418,\n",
       "       22.88792313, 20.52468007, 23.82194896, 19.2659242 , 21.334719  ,\n",
       "       22.12590843, 20.81435499, 21.05207308, 21.19130791, 23.05208896,\n",
       "       21.65971913, 23.26186557, 29.0168811 , 23.8716622 , 20.17317519,\n",
       "       24.9678373 , 21.14863634, 19.34526153, 17.13761105, 23.06245516,\n",
       "       20.20549468, 18.94063102, 21.87866688, 22.97622941, 22.96736723,\n",
       "       20.82410772, 22.31225636, 22.70729988, 19.04362224, 22.77868611,\n",
       "       20.41692942, 22.77938388, 23.53419141, 24.30581697, 21.85741025,\n",
       "       20.28129658, 26.29151086, 18.55099043, 24.80591829, 20.64590514,\n",
       "       20.4029366 , 23.55315727, 20.98847448, 24.43974137, 23.76650328,\n",
       "       23.92636839, 20.46664824, 24.15429819, 20.81494406, 20.07807395,\n",
       "       21.28751061, 23.06426674, 20.80858754, 20.31553385, 20.76564541,\n",
       "       23.22249181, 21.205384  , 21.27625118, 21.9795177 , 18.23247025,\n",
       "       20.34977977, 21.22416146, 22.90292216, 22.46617367, 21.46451364,\n",
       "       20.49335718, 22.20317434, 22.65041141, 20.89937997, 24.40675724,\n",
       "       18.33699691, 27.71175581, 22.57875352, 25.09480362, 24.26421205,\n",
       "       25.74199828, 20.56543879, 23.10709208, 26.93272865, 24.07052013,\n",
       "       22.98728001, 24.5029036 , 20.77697109, 23.86226872, 21.3677592 ,\n",
       "       23.02484889, 20.76194378, 19.94275683, 20.33087445, 22.80563688,\n",
       "       23.47649059, 21.50182454, 24.55730354, 26.43303259, 17.53256607,\n",
       "       23.10727339, 21.77355973, 22.41184597, 21.48790156, 21.62084111,\n",
       "       26.28600144, 23.69002387, 24.94389447, 19.34188823, 23.965816  ,\n",
       "       23.85308505, 17.14848065, 22.08477402, 23.64386342, 21.41984693,\n",
       "       20.70317874, 23.57154284, 22.28191069, 21.57601454, 19.86021404,\n",
       "       20.58316823, 27.59683816, 22.49193654, 24.38826349, 20.57390777,\n",
       "       21.6243467 , 23.42955193, 19.44615159, 20.9669577 , 19.24765855,\n",
       "       20.46965222, 20.14392378, 23.72954774, 21.41010089, 24.57500472,\n",
       "       26.57349638, 20.56814246, 21.73036544, 23.24205711, 24.18374437,\n",
       "       22.18064856, 24.95094804, 19.48663563, 19.4708704 , 20.73537197,\n",
       "       21.73904914, 21.07374005, 21.69855815, 22.29206066, 22.07823088,\n",
       "       19.94112093, 20.58392994, 19.82885409, 21.54969126, 23.11272059,\n",
       "       21.20922517, 18.36456105, 21.62875322, 22.90038357, 18.77192869,\n",
       "       22.60824525, 23.05002088, 22.12872888, 20.40671979, 20.33190988,\n",
       "       19.98178967, 21.76936436, 22.55228365, 23.35616482, 21.22450758,\n",
       "       20.875194  , 22.04152555, 23.30551183, 23.67558794, 21.3447124 ,\n",
       "       22.13624196, 20.5473587 , 23.20392048, 23.46712668, 21.54111048,\n",
       "       18.89276334, 22.64561309, 20.32395551, 21.40433117, 18.5325871 ,\n",
       "       21.10708243, 22.3200046 , 23.11486556, 21.17142286, 22.95496268,\n",
       "       21.53729858, 21.63784618, 23.88021552, 20.21005146, 20.98243867,\n",
       "       25.03868007, 20.00153528, 23.28623852, 20.67336872, 21.73037305,\n",
       "       22.68639244, 24.23430603, 24.94073784, 24.35918759, 19.57420817,\n",
       "       22.89660366, 25.43837067, 16.78556567, 19.9889389 , 23.67161188,\n",
       "       21.64223751, 22.26181492, 26.09428467, 21.78354503, 23.019563  ,\n",
       "       23.83692344, 16.86224075, 22.69618245, 18.72516298, 26.00693552,\n",
       "       21.99936794, 22.80673891, 22.64210105, 24.18924381, 18.98245237,\n",
       "       17.13271771, 26.70954307, 22.22957704, 23.19491789, 24.12636511,\n",
       "       20.9518901 , 19.59093714, 20.72657262, 21.08025825, 19.42436275,\n",
       "       20.80590392, 21.98487548, 21.35254821, 23.95164837, 19.41537105,\n",
       "       20.65055564, 16.52707101, 20.90770807, 25.5929289 , 19.31369192,\n",
       "       23.54452366, 21.33568559, 25.15230455, 22.43134819, 20.60475829,\n",
       "       21.59942648, 20.28462606, 22.25152529, 22.43616906, 18.83821746,\n",
       "       23.42152853, 23.47326583, 19.90778854, 24.18759627, 25.92007504,\n",
       "       20.49661126, 17.50220946, 21.50013634, 23.44198039, 19.47357994,\n",
       "       24.1654836 , 23.01587859, 21.7679202 , 18.65659914, 25.51317793,\n",
       "       23.62818439, 23.60002629, 24.42607552, 16.65354168, 21.60300972,\n",
       "       24.45572249, 21.80915303, 20.45771581, 23.87698765, 19.09838034,\n",
       "       23.85224966, 24.31568662, 22.69245435, 25.03103266, 22.07110059,\n",
       "       20.25923646, 19.99145202, 21.7456768 , 23.06875184, 22.69450279,\n",
       "       23.44826379, 22.9664646 , 22.07737987, 20.98811148, 23.03532378,\n",
       "       20.59453965, 21.99196401, 20.73397157, 22.58294189, 21.60945067,\n",
       "       22.48664523, 24.97362479, 21.43746224, 20.67287787, 27.03032124,\n",
       "       19.87875686, 20.64184626, 23.53683045, 23.14341728, 22.13964553,\n",
       "       18.43965923, 20.44511711, 19.55512638, 26.45091844, 28.97809647,\n",
       "       19.37725518, 25.90633351, 21.66630994, 22.68748474, 22.92664757,\n",
       "       19.95652086, 21.96247616, 22.15141258, 22.84778798, 23.68863499,\n",
       "       24.76738656, 20.05404288, 18.6863986 , 19.25846858, 19.84314   ,\n",
       "       23.00539582, 19.35691429, 26.10304242, 19.41040375, 23.31044671,\n",
       "       22.88448024, 20.50440751, 22.26167691, 21.32767495, 21.23336743,\n",
       "       26.20041654, 23.06243726, 19.1549373 , 23.76268278, 24.63652522,\n",
       "       25.85178191, 22.0938695 , 23.03909247, 21.29821597, 16.81389969,\n",
       "       25.4748254 , 21.61232273, 24.12316518, 23.09765308, 23.92958584,\n",
       "       19.76254155, 18.32849781, 24.3779991 , 20.10111197, 21.76412829,\n",
       "       20.59449659, 25.68231855, 20.22561829, 22.22420098, 20.73576626,\n",
       "       22.3209166 , 22.67130649, 23.12566294, 22.77798453, 24.04950259,\n",
       "       21.70536501, 22.09472337, 21.13291294, 21.90021471, 22.45776353,\n",
       "       22.15200694, 23.6670558 , 22.70807433, 23.7967387 , 22.07154956,\n",
       "       19.45579251, 23.45043909, 21.01224474, 22.61613135, 23.13030939,\n",
       "       19.66329032, 22.92896288, 21.71022929, 22.09660322, 22.89113601,\n",
       "       22.28845339, 21.11810182, 20.22300401, 22.91137206, 25.1944505 ,\n",
       "       17.91835175, 19.17312374, 25.29333794, 22.50094947, 20.59972253,\n",
       "       24.09747642, 19.40095386, 18.94616452, 19.54972156, 19.31449042,\n",
       "       22.20936305, 23.07814833, 24.16791431, 18.05861893, 24.39983347,\n",
       "       24.73167089, 25.14569938, 19.58534476, 23.72244721, 22.12360928,\n",
       "       22.03750698, 23.28105523, 20.2315887 , 23.40098036, 23.75626155,\n",
       "       19.69683106, 19.03922258, 22.73548901, 24.64091288, 23.86725194,\n",
       "       20.94955612, 17.14391504, 22.24933592, 22.78801929, 22.15155746,\n",
       "       19.89070033, 21.59225267, 21.83577796, 22.52981906, 21.84760374,\n",
       "       23.12189164, 21.2290272 , 22.91591167, 23.47478211, 24.65309518,\n",
       "       20.30380943, 22.52804063, 23.19745241, 23.19142131, 22.45138964,\n",
       "       19.74551869, 21.93900528, 22.5988019 , 19.5703922 , 19.73150965,\n",
       "       20.3515541 , 21.99227947, 24.23172337, 24.14647999, 16.4942912 ,\n",
       "       19.60786833, 20.74445316, 20.15661504, 25.29634701, 23.34938556,\n",
       "       23.14660118, 21.03078256, 21.69746997, 21.67310988, 19.76811218,\n",
       "       18.95404917, 23.97545036, 22.57755135, 19.89782095, 19.48353091,\n",
       "       20.38748443, 21.06417201, 24.03674466, 20.21571902, 21.29614353,\n",
       "       16.15987177, 21.17018755, 21.7045288 , 22.70683264, 22.8625813 ,\n",
       "       21.93940045, 24.2274074 , 23.3500644 , 24.40707622, 20.63924702,\n",
       "       19.81879015, 18.18394196, 21.62733812, 18.83413356, 20.31795956,\n",
       "       22.16547461, 23.7250089 , 23.17849841, 23.08900566, 17.91341537,\n",
       "       23.48157858, 21.65912329, 19.5424381 , 21.86973255, 21.14270941,\n",
       "       22.22605457, 19.23192268, 20.33767227, 21.48331051, 24.07058068,\n",
       "       22.58485659, 21.97707978, 18.16557171, 21.55057932, 20.21365057,\n",
       "       20.13186228, 20.97223804, 19.61712067, 20.7449466 , 21.80524349,\n",
       "       23.88777576, 23.90184079, 22.73821795, 25.73307467, 22.38672392,\n",
       "       20.17143394, 21.70730756, 18.19738423, 19.79813388, 20.46300351,\n",
       "       22.60293722, 21.73801452, 18.13951521, 19.95997391, 18.46154553,\n",
       "       23.55777267, 22.40687028, 24.50222917, 24.94915343, 22.0740841 ,\n",
       "       20.56781992, 21.30775399, 24.5380053 , 21.00030495, 24.59562832,\n",
       "       20.05789517, 22.76312299, 15.74699987, 19.88657905, 22.60042317,\n",
       "       22.09453813, 21.49029441, 20.50268648, 21.71306573, 21.119265  ,\n",
       "       21.34808014, 18.57467617, 22.44981546, 19.75709283, 20.16743087,\n",
       "       19.01583059, 22.10885662, 22.84143095, 23.13873924, 23.03562865,\n",
       "       23.77049477, 23.78463999, 21.528665  , 24.42971122, 21.42405408,\n",
       "       20.19449795, 19.44088548, 18.83985515, 22.54734984, 23.14338499,\n",
       "       14.79890765, 19.66632223, 22.75010434, 20.7567641 , 24.50547265,\n",
       "       22.82570092, 24.37649535, 23.13306419, 19.55690212, 19.12946667,\n",
       "       20.21000742, 21.8172815 , 21.31239556, 22.87059271, 19.36580171,\n",
       "       22.23240206, 26.47767331, 20.46197435, 21.91184836, 23.20895223,\n",
       "       22.18992797, 22.86388938, 19.44509657, 23.68812825, 21.75801633,\n",
       "       19.98406421, 23.30957239, 22.74245471, 21.19622609, 25.87124396,\n",
       "       24.24603017, 20.35690696, 19.07010131, 20.93522227, 21.75654029,\n",
       "       20.11068262, 20.31810307, 23.86331602, 16.71886962, 21.69960835,\n",
       "       19.71118701, 20.13342046, 20.20269092, 20.75951885, 15.74150587,\n",
       "       21.53118295, 18.61004327, 23.35409211, 22.9585619 , 25.9386976 ,\n",
       "       23.04838481, 20.85855209, 21.59975843, 22.56646318, 23.66134003,\n",
       "       20.55807445, 22.6019712 , 19.75876254, 23.63739653, 22.04819895,\n",
       "       21.03958973, 19.28083229, 20.25315138, 22.29381371, 23.95233813,\n",
       "       22.3010879 , 17.113797  , 22.94096908, 22.65586521, 20.72577372,\n",
       "       21.1857626 , 23.09207072, 23.46160557, 20.4034243 , 20.05750465,\n",
       "       18.38307194, 19.00332335, 19.69663438, 25.79038528, 22.72400069,\n",
       "       20.37744259, 21.89235136, 20.95346606, 18.07454546, 21.45808514,\n",
       "       22.10984055, 23.15010706, 23.02273485, 18.41857803, 19.91344993,\n",
       "       18.63570258, 24.17847811, 23.12233932, 18.50149424, 20.61505284,\n",
       "       22.98802326, 20.28193542, 18.97725784, 23.51232784, 20.01698382,\n",
       "       20.12330689, 22.0446636 , 25.1170066 , 19.69890924, 21.58669001,\n",
       "       24.14255652, 22.89039418, 22.01338879, 24.86752048, 22.70707255,\n",
       "       17.2875732 , 24.86772915, 22.97243177, 22.41230328, 21.4649234 ,\n",
       "       22.46727469, 18.92693458, 23.67317283, 23.12278593, 23.83879185,\n",
       "       22.03825983, 19.62469775, 24.13984415, 20.82742297, 22.28865041,\n",
       "       20.23279063, 21.26780218, 21.27150688, 22.7570419 , 19.61678049,\n",
       "       19.75751903, 22.95056593, 22.76914929, 25.26461207, 24.09568922,\n",
       "       17.37860623, 18.50625624, 21.51184387, 21.83688426, 24.13009675,\n",
       "       25.5000415 , 24.05138628, 25.17739077, 19.28514859, 20.97736039,\n",
       "       21.36661889, 22.76967056, 20.3729736 , 21.00909486, 21.55285901,\n",
       "       25.10912586, 23.83478173, 21.35062921, 18.66920865, 22.16894184,\n",
       "       21.43909329, 24.00669651, 17.39960038, 21.97914316, 19.49560641,\n",
       "       24.16284044, 19.62243946, 21.95602371, 18.74383266, 23.10658067,\n",
       "       24.10748944, 21.09987312, 24.49037426, 22.98070973, 19.84237299,\n",
       "       21.83916606, 21.41446439, 20.98285184, 23.5766491 , 21.81293007,\n",
       "       24.15443175, 22.04964744, 18.43152317, 19.813706  , 24.90193642,\n",
       "       22.63891261, 21.4461178 , 23.48237499, 22.08784631, 20.90534643,\n",
       "       20.66610339, 22.60867893, 21.30546508, 23.02382054, 21.24641465,\n",
       "       22.30550466, 23.61705542, 22.44695439, 17.84418974, 20.37161512,\n",
       "       23.525362  , 25.80503492, 24.332423  , 22.06793552, 24.54505127,\n",
       "       24.59802843, 22.14847402, 21.20309062, 18.78027429, 17.28274494,\n",
       "       22.84262304, 23.21274116, 19.8740079 , 21.26160791, 20.72129392,\n",
       "       20.70595469, 26.30889734, 20.35216608, 25.73957034, 22.42734413,\n",
       "       25.44660914, 23.17351062, 17.82484047, 22.87149166, 23.48201663,\n",
       "       24.19414708, 24.1421529 , 27.43042459, 22.87403626, 24.42298348,\n",
       "       22.81200086, 20.21472525, 22.02896648, 23.40769636, 24.5588781 ,\n",
       "       21.5612255 , 25.94868872, 22.03982735, 19.47499349, 23.05671449,\n",
       "       22.66069399, 19.89476962, 22.71499147, 24.50690712, 21.37685552,\n",
       "       24.52663001, 21.56839261, 19.49160737, 18.79368505, 22.06143117,\n",
       "       22.61135475, 20.3526394 , 20.68655876, 21.79288831, 22.17580437,\n",
       "       20.82355274, 22.1168813 , 21.70961784, 19.64678822, 22.36766176,\n",
       "       20.02129484, 21.43791813, 21.30885013, 21.54801632, 22.47375467,\n",
       "       21.44569319, 18.80515057, 23.65689789, 23.90394749, 23.25051845,\n",
       "       24.10963153, 23.65963313, 19.09458731, 24.28662285, 22.20769128,\n",
       "       22.55000294, 17.62628856, 20.30562073, 22.83085826, 21.10254818,\n",
       "       20.39322494, 20.83921108, 19.97743673, 21.72205533, 24.32825249,\n",
       "       22.76556097, 23.87095637, 22.46408249, 20.21000732, 21.20789898,\n",
       "       23.09038531, 24.01558485, 18.46384582, 24.70344944, 22.80549389,\n",
       "       21.50382664, 20.56114332, 25.78566865, 21.40045758, 19.80591443,\n",
       "       26.1173416 , 21.35311396, 20.83790466, 21.4186035 , 20.70811888,\n",
       "       22.4918861 , 25.01518471, 25.57158592, 20.13441128, 21.91182645,\n",
       "       24.19362151, 22.764345  , 25.63183963, 20.61521011, 21.02175191,\n",
       "       22.32792321, 21.10599802, 22.66873247, 27.05674397, 21.23948765,\n",
       "       18.62917467, 21.41054442, 18.54404539, 17.07406138, 24.3761128 ,\n",
       "       21.96403265, 21.55017366, 22.31849098, 24.36255018, 24.18258934,\n",
       "       23.11654895, 24.67871232, 20.95155468, 23.53439787, 21.18371566,\n",
       "       23.02385666, 21.76863116, 19.7980134 , 20.18792376, 24.42119903,\n",
       "       19.45601612, 21.21730028, 21.26251826, 23.49190639, 27.03393451])"
      ]
     },
     "execution_count": 4,
     "metadata": {},
     "output_type": "execute_result"
    }
   ],
   "source": [
    "sample_data"
   ]
  },
  {
   "cell_type": "code",
   "execution_count": 5,
   "metadata": {},
   "outputs": [
    {
     "data": {
      "text/plain": [
       "Text(0, 0.5, 'Frequency')"
      ]
     },
     "execution_count": 5,
     "metadata": {},
     "output_type": "execute_result"
    },
    {
     "data": {
      "image/png": "[encoded data removed]",
      "text/plain": [
       "<Figure size 432x288 with 1 Axes>"
      ]
     },
     "metadata": {
      "needs_background": "light"
     },
     "output_type": "display_data"
    }
   ],
   "source": [
    "##Here i got the data. \n",
    "a, b, c = plt.hist(sample_data, bins = 10)\n",
    "plt.plot(b[:-1] + 0.5, a)\n",
    "plt.xlabel('Random Data')\n",
    "plt.ylabel('Frequency')"
   ]
  },
  {
   "cell_type": "markdown",
   "metadata": {},
   "source": [
    "To calculate the probability for any normally distribution data. The proability Distribution function is given by:\n",
    "   $$P(X = x_i) = \\frac{1}{\\sqrt{2\\pi} \\sigma} e^{-{\\frac{{(x_i - \\mu)} ^ 2}{2\\sigma^2} }}$$\n",
    "   \n",
    "It could also be written as:\n",
    "$$P(X = x_i) = \\frac{1}{\\sqrt{2\\pi} \\sigma} e^{-\\frac{1}{2}\\big[{\\frac{{x_i - \\mu}}{\\sigma} }\\big] ^ 2}$$\n",
    "\n",
    "Where $\\mu$ and $\\sigma$ is the natural parameters of the probability distribution. Changing the values of $\\sigma$ and $\\mu$ will give a family of *Gaussian curves*. \n",
    "<br>When we change the values of $\\mu$ it will change the values on $x-axis$. When $\\mu$ is negative the graph is shifted towards negative side or vice versa. <br>But, when we change the values of $\\sigma$ it will change the graph on $y-axis$. When we increase the value of $\\sigma$, graph will shrink from $y-axis$ or vice versa. <br>\n",
    "There is a direct relation between $x-axis$ and $\\mu$ but, inverse relations between $y-axis$ and $\\sigma$.\n",
    "<br>$\\frac{1}{\\sqrt{2\\pi}\\sigma}$ is the scaling value which will help in reducing the probability of center value and distribute among other values. \n",
    "And, $\\bigg(-{\\frac{{x_i - \\mu} ^ 2}{2\\sigma^2}} \\bigg)$ will use to shift the graph over $x-axis$. \n"
   ]
  },
  {
   "cell_type": "markdown",
   "metadata": {},
   "source": [
    "To find the probability of we can use the distribution function. \n",
    "In our example, we took $\\mu$ = 22 and $\\sigma$ = 2. Let's find the value of $P(X = 24)$"
   ]
  },
  {
   "cell_type": "code",
   "execution_count": 25,
   "metadata": {},
   "outputs": [],
   "source": [
    "# Writing a function to calculate the probability. \n",
    "def Normal_PDF(x, mu, sigma):\n",
    "    scale_parm = 1 / (np.sqrt(2 * np.pi) * sigma)\n",
    "    shift = np.e ** (((x - mu) ** 2) / (2 * sigma ** 2))\n",
    "    return scale_parm * shift\n"
   ]
  },
  {
   "cell_type": "code",
   "execution_count": 26,
   "metadata": {},
   "outputs": [
    {
     "name": "stdout",
     "output_type": "stream",
     "text": [
      "Individual probability of 24 is 0.3288723117397285\n"
     ]
    }
   ],
   "source": [
    "x = 24\n",
    "mu = 22\n",
    "sigma = 2\n",
    "individual_prob = Normal_PDF(x, mu, sigma)\n",
    "print (\"Individual probability of {} is {}\".format(x, individual_prob))"
   ]
  },
  {
   "cell_type": "markdown",
   "metadata": {},
   "source": [
    "Now, we are going to calculate the Cummulative probability function for normal distribution. \n",
    "As, we know in continuous random variable the porbability is calculated by:\n",
    "$$f(x) = \\int_{i = -\\infty}^{\\infty} P(X=x_i) dx$$\n",
    "So, change $P(X = x_i)$ wil probability function. \n",
    "$$ f(x) = \\int_{i = -\\infty}^{\\infty} {\\frac{1}{\\sqrt{2\\pi} \\sigma} e^{-\\frac{1}{2}\\big[{\\frac{{x_i - \\mu}}{\\sigma} }\\big] ^ 2}} dx$$\n",
    "\n",
    "But it will be computationally complicated to calculate the integral of a normal distributed function.<br>To solve the probable scientists introduce a table. Where integral for particular value is already calculated. But still have some problem, in our case we are finding probability for BMI which have the unit value $kg/m^2$. But when we can the example then we get unit in different values. To solve that problem scientist create standardized form of the same distribution. By which it become more easy to solve the problem.  \n",
    "To standardize the values scientists give an equation:\n",
    "$$z = \\frac{x-\\mu}{\\sigma}$$ \n",
    "This equation will help to find the *z-score* for every normalized random variable. It compress the variable into a range of $[-4, 4]$. It also known as *zero mean one standard deviation score*.<br>And scientist calculate integrals for all values of that range. They created a table called <a href = \"http://www.z-table.com/\" >Z-score table. </a>\n",
    "\n",
    "<img src = \"http://www.z-table.com/uploads/2/1/7/9/21795380/7807141_orig.png\" height = \"50\" width = \"200\"/>\n",
    "In integration we find the value of from minimum value to a particular value. As shown in shaded region. "
   ]
  },
  {
   "cell_type": "code",
   "execution_count": 8,
   "metadata": {},
   "outputs": [],
   "source": [
    "# In python, to get z-score we use function of scipy library\n",
    "#Let's calculate the z-score for our indiviual probability. Before finding the z-score we have standardize our x-value.\n",
    "\n",
    "x = 24\n",
    "mu = 22\n",
    "sigma = 2"
   ]
  },
  {
   "cell_type": "code",
   "execution_count": 9,
   "metadata": {},
   "outputs": [],
   "source": [
    "calc_zscore = lambda x,mu,sigma: (x-mu) / sigma"
   ]
  },
  {
   "cell_type": "code",
   "execution_count": 10,
   "metadata": {},
   "outputs": [],
   "source": [
    "z_score = calc_zscore(18.5, mu, sigma)"
   ]
  },
  {
   "cell_type": "code",
   "execution_count": 11,
   "metadata": {},
   "outputs": [
    {
     "data": {
      "text/plain": [
       "-1.75"
      ]
     },
     "execution_count": 11,
     "metadata": {},
     "output_type": "execute_result"
    }
   ],
   "source": [
    "z_score"
   ]
  },
  {
   "cell_type": "markdown",
   "metadata": {},
   "source": [
    "Now we can calculate cummulative distribution function for that Value. "
   ]
  },
  {
   "cell_type": "code",
   "execution_count": 12,
   "metadata": {},
   "outputs": [],
   "source": [
    "ProbabilityForXValue = S.norm.cdf(z_score)"
   ]
  },
  {
   "cell_type": "code",
   "execution_count": 13,
   "metadata": {},
   "outputs": [
    {
     "data": {
      "text/plain": [
       "0.040059156863817086"
      ]
     },
     "execution_count": 13,
     "metadata": {},
     "output_type": "execute_result"
    }
   ],
   "source": [
    "ProbabilityForXValue"
   ]
  },
  {
   "cell_type": "markdown",
   "metadata": {},
   "source": [
    "We can also find the probability in between an interval. For e.g., In our BMI example, let's say i want to find the probability of a person having BMI in between 20 to 23. \n",
    "So, basically we have to find $ F(X \\geq 20 \\hspace{1mm}\\&\\hspace{1mm} X \\leq 23) $. \n",
    "As, we know the from $z-score$ we can able to find the probability from minimum to a specific value. \n",
    "So, there we can subtract the probability of largest value with smallest we can get the probability of that region. \n",
    "$$F(X \\geq20 \\hspace{1mm}\\&\\hspace{1mm}X\\leq23) = F(X = 23) - F(X = 20)$$"
   ]
  },
  {
   "cell_type": "code",
   "execution_count": 14,
   "metadata": {},
   "outputs": [
    {
     "data": {
      "text/plain": [
       "(20, 23)"
      ]
     },
     "execution_count": 14,
     "metadata": {},
     "output_type": "execute_result"
    }
   ],
   "source": [
    "## So first we have to find the standardize our values. \n",
    "x1, x2 = [20,23]\n",
    "x1, x2"
   ]
  },
  {
   "cell_type": "code",
   "execution_count": 15,
   "metadata": {},
   "outputs": [
    {
     "data": {
      "text/plain": [
       "(-1.0, 0.5)"
      ]
     },
     "execution_count": 15,
     "metadata": {},
     "output_type": "execute_result"
    }
   ],
   "source": [
    "x1_zscore = calc_zscore(x1, mu, sigma)\n",
    "x2_zscore = calc_zscore(x2, mu, sigma)\n",
    "(x1_zscore, x2_zscore)"
   ]
  },
  {
   "cell_type": "code",
   "execution_count": 16,
   "metadata": {},
   "outputs": [
    {
     "data": {
      "text/plain": [
       "(0.15865525393145707, 0.6914624612740131)"
      ]
     },
     "execution_count": 16,
     "metadata": {},
     "output_type": "execute_result"
    }
   ],
   "source": [
    "## Find the cummulative probability of random variable. \n",
    "x1_cdf = S.norm.cdf(x1_zscore)\n",
    "x2_cdf = S.norm.cdf(x2_zscore)\n",
    "x1_cdf, x2_cdf"
   ]
  },
  {
   "cell_type": "code",
   "execution_count": 17,
   "metadata": {},
   "outputs": [
    {
     "data": {
      "text/plain": [
       "0.532807207342556"
      ]
     },
     "execution_count": 17,
     "metadata": {},
     "output_type": "execute_result"
    }
   ],
   "source": [
    "## Subtract to find the probability of that region. \n",
    "region_prob = x2_cdf - x1_cdf\n",
    "region_prob"
   ]
  },
  {
   "cell_type": "markdown",
   "metadata": {},
   "source": [
    "So, The $F(X \\geq20 \\hspace{1mm}\\&\\hspace{1mm}X\\leq23) = 0.5328$. Similarly, we can find probability for any specific region. "
   ]
  },
  {
   "cell_type": "markdown",
   "metadata": {},
   "source": [
    "Similarily, Probability distribution for standard normal variable is given as:\n",
    "$$ P(X = x_i) = \\frac{1}{\\sqrt{2\\pi}} e^{-\\frac{1}{2}x_i^2} $$"
   ]
  },
  {
   "cell_type": "markdown",
   "metadata": {},
   "source": [
    "## Inverse Transform Sampling\n",
    "\n",
    "It is a sampling method, where we generate pseduo-random number for a particular any probability distribution. For Normal distribution, we can generate random(artifical) data for given mean($\\mu$) and standard deviation($\\sigma$). \n",
    "We are going to implement this method"
   ]
  },
  {
   "cell_type": "code",
   "execution_count": 18,
   "metadata": {},
   "outputs": [],
   "source": [
    "## it need 3 parameters (mean, standard deviation, size)\n",
    "## Return a array of normally distributed random numbers.\n",
    "\n",
    "def inverse_transform_sampling(mean, sigma, size):\n",
    "    prob_val = np.random.uniform(0,1,size).astype(float)\n",
    "    z_score = S.norm.ppf(prob_val)\n",
    "    random_values = mean - (z_score * sigma)\n",
    "    return random_values"
   ]
  },
  {
   "cell_type": "code",
   "execution_count": 23,
   "metadata": {},
   "outputs": [],
   "source": [
    "value = inverse_transform_sampling(22,2,(1000)).astype(float)"
   ]
  },
  {
   "cell_type": "code",
   "execution_count": 24,
   "metadata": {},
   "outputs": [
    {
     "data": {
      "text/plain": [
       "(array([0.00070969, 0.00709691, 0.03335547, 0.10290517, 0.15755136,\n",
       "        0.19161651, 0.14193816, 0.05322681, 0.01632289, 0.00496784]),\n",
       " array([14.64204775, 16.05111211, 17.46017646, 18.86924082, 20.27830517,\n",
       "        21.68736953, 23.09643388, 24.50549824, 25.9145626 , 27.32362695,\n",
       "        28.73269131]),\n",
       " <a list of 10 Patch objects>)"
      ]
     },
     "execution_count": 24,
     "metadata": {},
     "output_type": "execute_result"
    },
    {
     "data": {
      "image/png": "[encoded data removed]",
      "text/plain": [
       "<Figure size 432x288 with 1 Axes>"
      ]
     },
     "metadata": {
      "needs_background": "light"
     },
     "output_type": "display_data"
    }
   ],
   "source": [
    "plt.hist(value,density = True, )"
   ]
  },
  {
   "cell_type": "markdown",
   "metadata": {},
   "source": [
    "## Chevyshev's inequality\n",
    "Chevyshev's inequality is inequality where we find the area covered by some number. \n",
    "So, $$x = \\mu \\pm k\\sigma$$\n",
    "To find the total area covered by the particular $k$ value.\n",
    "$$Area Covered = \\bigg( 1 - \\frac{1}{k^2}\\bigg)$$"
   ]
  },
  {
   "cell_type": "markdown",
   "metadata": {},
   "source": [
    "Probability distribution for standard normal distribution is:\n",
    "$$P(Z = z_i) = {\\frac{1}{\\sqrt{2\\pi}\\sigma} e^z^2}$$"
   ]
  },
  {
   "cell_type": "code",
   "execution_count": null,
   "metadata": {},
   "outputs": [],
   "source": []
  }
 ],
 "metadata": {
  "kernelspec": {
   "display_name": "Python 3",
   "language": "python",
   "name": "python3"
  },
  "language_info": {
   "codemirror_mode": {
    "name": "ipython",
    "version": 3
   },
   "file_extension": ".py",
   "mimetype": "text/x-python",
   "name": "python",
   "nbconvert_exporter": "python",
   "pygments_lexer": "ipython3",
   "version": "3.7.1"
  }
 },
 "nbformat": 4,
 "nbformat_minor": 2
}
