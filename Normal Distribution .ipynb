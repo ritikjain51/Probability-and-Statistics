{
 "cells": [
  {
   "cell_type": "markdown",
   "metadata": {},
   "source": [
    "## Normal Distribution\n",
    "In this notebook, we are going to discuss about normal distribution and Standard Normal Distribution. \n",
    "*Normal Distribution*: Normal distribution is most common type of continuous probability distribution which also known as Gaussian Distribution. When we are visualizing or plotting a sample of normal random variables, it always gives a symmetric graph which highest mean value. \n",
    "\n",
    "For performing the experiment we are taking some random sample data. \n"
   ]
  },
  {
   "cell_type": "code",
   "execution_count": 14,
   "metadata": {},
   "outputs": [],
   "source": [
    "import numpy as np\n",
    "import matplotlib.pyplot as plt\n",
    "import scipy.stats as S\n",
    "%matplotlib inline"
   ]
  },
  {
   "cell_type": "markdown",
   "metadata": {
    "collapsed": true
   },
   "source": [
    "I am using numpy for taking normal distributed random data. Later i will implement Inverse Transform Sampling to show how numpy generate random data. \n",
    "Let's take a example of *Population's BMI (Body Mass Index)*. I am going to take bmi values for population. which always ranging from 18.5 to 25 $kg/m^2$. \n",
    "Taking a sample of 1000 people. N = 1000\n",
    "With a random mean of 22. $\\mu = 22$ and standard deviation of 2. $\\sigma = 2$.\n"
   ]
  },
  {
   "cell_type": "code",
   "execution_count": 15,
   "metadata": {},
   "outputs": [],
   "source": [
    "N = 1000\n",
    "mu = 22\n",
    "sigma = 2"
   ]
  },
  {
   "cell_type": "code",
   "execution_count": 16,
   "metadata": {},
   "outputs": [],
   "source": [
    "#Let's generate random data.\n",
    "sample_data = np.random.normal(loc = mu, scale = sigma, size = N)"
   ]
  },
  {
   "cell_type": "code",
   "execution_count": 17,
   "metadata": {},
   "outputs": [
    {
     "data": {
      "text/plain": [
       "array([21.59960188, 21.09923751, 24.85221722, 23.96804537, 21.54115845,\n",
       "       20.49962285, 21.75107728, 22.71060665, 16.65255176, 21.85023375,\n",
       "       19.91335214, 17.26306313, 21.13477558, 20.01776783, 22.45833315,\n",
       "       24.48656629, 22.37534434, 23.13875131, 20.49589328, 22.35581192,\n",
       "       24.1575045 , 24.60551568, 18.68541634, 19.56693422, 19.19324731,\n",
       "       22.91773608, 22.79561563, 21.67328433, 19.40985888, 23.78132131,\n",
       "       21.12720426, 22.91865444, 22.32970924, 25.54101522, 21.47494779,\n",
       "       19.10651038, 23.76442323, 18.71504999, 24.55341321, 22.1418849 ,\n",
       "       23.41616336, 19.65350205, 23.39146562, 22.82338642, 23.34591251,\n",
       "       22.38291882, 22.09627945, 20.78893561, 20.98300127, 22.66280053,\n",
       "       22.11401442, 24.61862742, 20.62063182, 20.91271726, 21.96180268,\n",
       "       23.18308959, 21.67767527, 23.78233112, 19.90254892, 23.01423604,\n",
       "       24.49331018, 19.79460149, 21.4073547 , 24.30667465, 20.25006485,\n",
       "       21.1902172 , 22.12948804, 21.2842378 , 19.70198469, 20.92568608,\n",
       "       20.37130963, 24.9612635 , 23.58929303, 23.2545227 , 24.22404469,\n",
       "       18.1870009 , 20.42767637, 20.0498874 , 20.91155208, 21.97743328,\n",
       "       21.82757689, 23.70453244, 17.4650961 , 21.83087762, 23.4372534 ,\n",
       "       21.14359633, 23.4593305 , 23.32278111, 21.45192569, 22.38568732,\n",
       "       23.65679763, 22.81842541, 18.58100493, 21.05852553, 22.64502286,\n",
       "       23.23254348, 24.35226506, 21.67021041, 24.42766294, 21.63492442,\n",
       "       20.19851153, 20.3890445 , 22.59864336, 19.63369257, 18.28007798,\n",
       "       21.11199163, 23.19322498, 21.66740904, 21.6182523 , 21.43753855,\n",
       "       22.91517553, 24.40752769, 18.66385856, 20.76869706, 20.51992002,\n",
       "       21.19593365, 21.4604275 , 25.29753223, 20.31469789, 23.07889199,\n",
       "       19.25796833, 20.90715555, 20.56355499, 23.33566999, 24.57651491,\n",
       "       19.62572765, 18.86904817, 25.42250516, 21.99434179, 21.38675001,\n",
       "       20.88851452, 23.22194667, 21.11256947, 23.31120901, 20.40968835,\n",
       "       19.04719306, 18.47210765, 21.95220728, 24.06621238, 21.40632102,\n",
       "       23.11421978, 22.30137402, 20.98465764, 19.6090171 , 21.12439267,\n",
       "       21.19891579, 24.04736324, 23.6452859 , 18.44360744, 21.36889549,\n",
       "       19.96596541, 24.36500394, 21.5775837 , 23.06383919, 23.91481041,\n",
       "       21.88358494, 22.89964638, 22.20222324, 22.88448548, 24.39868509,\n",
       "       21.58162418, 23.4214297 , 18.81423276, 21.80094909, 23.8481038 ,\n",
       "       20.51380908, 19.25048085, 20.80454408, 21.98047218, 24.49187878,\n",
       "       24.3523438 , 19.55366747, 22.51617596, 22.73860909, 24.99022848,\n",
       "       20.72531362, 22.03650823, 25.36937494, 21.75198442, 21.23890226,\n",
       "       18.42586821, 24.74468236, 19.72788087, 20.01686217, 22.05689463,\n",
       "       25.15150049, 22.64068853, 23.01785643, 22.05773342, 22.56140703,\n",
       "       22.18820527, 24.04375198, 22.50118258, 20.81502438, 22.38257615,\n",
       "       20.35212735, 23.03318909, 23.11983286, 22.82109678, 21.04386383,\n",
       "       22.31989096, 25.01052482, 22.7305722 , 17.92585278, 21.00118934,\n",
       "       22.4347872 , 21.89154948, 20.60092039, 24.49586259, 23.22428834,\n",
       "       21.46679529, 19.84768894, 22.86856819, 19.39892886, 21.96611229,\n",
       "       20.81334519, 23.20609997, 24.81465271, 20.66993835, 21.08148659,\n",
       "       19.64510222, 21.87178921, 24.18107078, 23.99195738, 20.74576574,\n",
       "       25.56859957, 19.68201341, 22.58032743, 19.03675619, 23.69883158,\n",
       "       18.58096756, 20.92583124, 22.00828182, 23.12645127, 21.15291538,\n",
       "       18.6457784 , 21.90389788, 21.32142435, 24.04128446, 21.62599144,\n",
       "       19.94033095, 23.12918985, 21.23046054, 21.19272524, 23.76668291,\n",
       "       19.33444611, 22.90604861, 22.2021463 , 22.12668931, 20.90616804,\n",
       "       24.07279781, 22.52621743, 20.75998709, 23.7547385 , 20.38628595,\n",
       "       22.81426835, 24.75711912, 17.97212973, 23.50991969, 21.16947251,\n",
       "       24.58677162, 25.30369917, 21.38620804, 24.12368808, 22.6898402 ,\n",
       "       24.19729463, 18.11933741, 20.86026153, 18.63140462, 20.90242312,\n",
       "       23.40870748, 20.75517816, 21.87618366, 23.75638927, 22.04349334,\n",
       "       22.05461752, 21.00686121, 22.74504467, 16.89177377, 18.3717848 ,\n",
       "       21.39049597, 20.27454854, 24.97791223, 18.25625416, 20.83722476,\n",
       "       23.49183242, 20.83547101, 20.81298929, 21.43746142, 22.84031919,\n",
       "       23.00593115, 25.6760536 , 19.05987814, 26.57269681, 20.57954346,\n",
       "       21.28010329, 21.99585966, 24.03336293, 20.29664052, 21.98592909,\n",
       "       22.82709411, 22.48155453, 20.97153879, 21.20453992, 20.25977945,\n",
       "       18.38475797, 28.06343934, 21.41165533, 23.31199625, 18.11031681,\n",
       "       20.33260877, 24.97856088, 23.36410417, 20.80532078, 23.48517   ,\n",
       "       24.20598233, 23.51701063, 26.14029004, 20.07157645, 20.60477558,\n",
       "       24.72408468, 25.16413499, 21.02771914, 25.70181404, 19.84976852,\n",
       "       22.52835621, 20.69660436, 23.13175655, 21.42731021, 18.42677052,\n",
       "       23.07585222, 21.22903396, 22.86574165, 23.36895872, 23.15581591,\n",
       "       23.89351928, 24.0190671 , 22.0327732 , 21.3119559 , 22.03611791,\n",
       "       22.76110397, 24.51419614, 24.06261509, 21.68960069, 22.84346235,\n",
       "       24.62049983, 21.76769992, 22.05567945, 21.16502473, 21.66494626,\n",
       "       22.08555803, 20.19021384, 22.70798092, 20.3255548 , 22.29888471,\n",
       "       19.68275117, 25.91625431, 20.15505   , 22.53301363, 23.60104753,\n",
       "       19.73567166, 22.55729155, 22.20252161, 19.39217233, 21.92422246,\n",
       "       20.8906699 , 25.86361231, 21.95866057, 25.29004392, 24.89541476,\n",
       "       21.25285983, 20.71202209, 19.68978299, 23.8771075 , 23.49005985,\n",
       "       23.70125837, 25.25849594, 21.76905861, 24.93112583, 24.40720439,\n",
       "       21.14586453, 23.11538828, 24.7357918 , 20.53133904, 22.53168023,\n",
       "       26.08878946, 22.37082933, 20.31688575, 22.84329368, 21.20689459,\n",
       "       23.89654504, 18.93626849, 22.74448746, 18.29182663, 23.3087407 ,\n",
       "       22.19662253, 22.38867116, 22.23057013, 21.52888714, 21.95426238,\n",
       "       19.02689989, 20.28927976, 21.37803537, 21.75778199, 20.13786368,\n",
       "       24.32387508, 19.58610934, 22.93766521, 19.90260403, 21.43713877,\n",
       "       23.76318322, 23.46110785, 21.52896324, 24.34406103, 21.15307318,\n",
       "       19.50988434, 25.11092006, 22.27554394, 24.16067021, 23.46891341,\n",
       "       23.0685049 , 25.9690876 , 23.23533217, 22.21075544, 22.56478779,\n",
       "       20.80244781, 23.06468138, 21.91511539, 21.77223351, 20.84432079,\n",
       "       22.13037751, 18.16476501, 22.33033212, 22.21788312, 22.58777418,\n",
       "       24.88723163, 22.48429279, 21.04522768, 21.02366931, 19.14598281,\n",
       "       23.19428224, 23.26081889, 25.72848466, 20.99878978, 21.8007544 ,\n",
       "       20.53030114, 23.45781786, 21.57883004, 22.0909192 , 21.77711962,\n",
       "       19.28851385, 23.67496761, 17.60566538, 19.85583193, 23.45517281,\n",
       "       20.95937536, 20.26165926, 22.8121134 , 23.5214764 , 21.77858247,\n",
       "       21.348493  , 22.37236988, 26.07935591, 25.31810534, 22.08273456,\n",
       "       23.27638013, 20.26389235, 24.33077028, 19.21197575, 24.72447883,\n",
       "       22.60085234, 24.01476557, 23.33180572, 24.82501656, 22.49550252,\n",
       "       21.03772345, 19.97033893, 22.36658016, 23.14722205, 22.77691924,\n",
       "       19.00457436, 21.17821863, 20.53646413, 25.79450287, 19.2897573 ,\n",
       "       21.48585223, 22.84313955, 21.93350571, 19.10051969, 19.46480776,\n",
       "       22.87962593, 22.46458384, 24.18592759, 19.39943771, 17.45996038,\n",
       "       21.3236126 , 23.23531463, 20.65837439, 22.54398883, 22.83311491,\n",
       "       24.6329484 , 18.91182157, 20.614856  , 20.98525871, 17.24438527,\n",
       "       22.68764617, 21.78271659, 21.61036143, 20.62614923, 23.36616473,\n",
       "       19.17037511, 23.05398599, 17.54802192, 21.99586017, 19.07069371,\n",
       "       21.55284008, 19.43548922, 21.48021191, 20.83393047, 20.91761929,\n",
       "       22.67125987, 24.11092929, 20.76857839, 24.01850334, 22.08883322,\n",
       "       24.90354535, 20.42102416, 19.40845387, 18.74545056, 22.20308295,\n",
       "       22.66714705, 22.45662307, 21.99301748, 19.74175792, 24.4835041 ,\n",
       "       21.66197801, 20.64639423, 22.67848383, 25.32839638, 25.01635423,\n",
       "       23.0302687 , 21.29325923, 24.93085672, 22.8775914 , 25.76265729,\n",
       "       19.73014836, 22.8837522 , 22.13338148, 18.83693584, 17.84175365,\n",
       "       22.98632008, 20.0812229 , 18.20899551, 23.73153668, 22.14726088,\n",
       "       20.77175466, 20.93837154, 23.40946341, 20.92087651, 23.78626609,\n",
       "       19.53882513, 23.37753764, 21.95146196, 23.62984463, 19.46965135,\n",
       "       24.72812251, 21.27878097, 23.54798253, 22.80412018, 22.45350735,\n",
       "       21.77682964, 23.1011066 , 24.22766707, 22.45906865, 22.44980518,\n",
       "       20.85647334, 17.06533336, 19.20999355, 19.03129842, 19.40362274,\n",
       "       22.57688405, 20.90851271, 24.96991434, 22.83188944, 21.09196328,\n",
       "       24.42731472, 22.42117196, 24.74303815, 22.49193035, 22.38527854,\n",
       "       19.39822828, 23.62910011, 21.85644303, 20.48513377, 19.57848463,\n",
       "       20.20941811, 21.19376642, 25.86602822, 20.15770777, 22.48486025,\n",
       "       21.78390116, 23.39117753, 24.15247051, 21.18438261, 22.22264698,\n",
       "       21.75720072, 21.79031971, 18.04029815, 24.91643334, 21.7048632 ,\n",
       "       19.65238087, 17.45993466, 24.48352264, 21.79552378, 20.51132704,\n",
       "       19.2436107 , 19.87536003, 22.52707083, 24.4863947 , 22.4729481 ,\n",
       "       19.48404996, 23.00774026, 25.49762082, 23.25756524, 22.91299034,\n",
       "       22.56149071, 20.78293088, 21.20077532, 23.54334658, 22.30786583,\n",
       "       23.47293552, 22.05169943, 20.0035259 , 22.34198957, 20.8388234 ,\n",
       "       20.83206805, 23.31569799, 22.76497592, 19.82485328, 21.08608051,\n",
       "       19.67716442, 26.07225565, 18.83058011, 20.94736534, 23.64191587,\n",
       "       24.10050551, 20.46800981, 22.08128543, 19.71782428, 21.93851144,\n",
       "       25.02433343, 19.29344109, 21.7835076 , 22.92604948, 18.77098689,\n",
       "       20.81743428, 22.32749245, 23.61065353, 23.73558462, 22.02387751,\n",
       "       21.08046998, 19.02508212, 21.78711351, 21.75387551, 22.50783788,\n",
       "       23.04548972, 22.96854957, 23.63035122, 23.36434755, 22.98391125,\n",
       "       21.90411196, 24.59678932, 21.42384878, 20.29045709, 15.73987221,\n",
       "       22.71261329, 23.25086266, 22.41651181, 21.32970123, 19.37064806,\n",
       "       24.99364166, 22.94209768, 21.75151896, 23.19152392, 19.16516505,\n",
       "       24.31792008, 16.47154252, 21.35044307, 24.60231676, 21.17161194,\n",
       "       19.80048961, 20.63499919, 22.97360427, 19.93062468, 24.59547778,\n",
       "       18.81312781, 18.69369938, 23.16493579, 21.19620462, 23.55771553,\n",
       "       22.42596183, 20.32186225, 18.66845854, 21.30156358, 24.33593743,\n",
       "       21.51237804, 21.7019494 , 21.38242638, 21.7438371 , 20.44343661,\n",
       "       26.8411761 , 27.05459618, 19.92165293, 21.24548321, 20.54426602,\n",
       "       19.2624001 , 18.20879426, 21.6828862 , 19.21046487, 20.44435638,\n",
       "       22.93937681, 21.94908497, 21.68480478, 19.89295219, 18.70974476,\n",
       "       22.75771871, 25.44841725, 24.9443257 , 23.17453078, 21.40116205,\n",
       "       20.26794069, 24.11196706, 21.68473542, 22.34203194, 21.70654629,\n",
       "       20.83537518, 17.7962315 , 20.77998825, 23.61473352, 22.43522284,\n",
       "       21.97360385, 20.32891456, 24.46643509, 20.33613852, 20.14902174,\n",
       "       26.38678334, 22.4540076 , 26.79042098, 22.55448728, 22.83644183,\n",
       "       24.36903844, 20.26172434, 17.23215436, 19.21354136, 22.85559886,\n",
       "       19.63749278, 22.12309821, 24.44113763, 20.54072895, 23.36794534,\n",
       "       19.07234955, 22.64584014, 22.6008036 , 17.05406946, 19.87649113,\n",
       "       18.40847577, 24.06698723, 21.56521885, 22.23031905, 20.94142094,\n",
       "       20.65296016, 23.03651977, 21.11518747, 21.51966407, 22.78763393,\n",
       "       22.179081  , 19.5129637 , 23.24065245, 20.5337171 , 19.52253755,\n",
       "       19.31870196, 22.85965042, 21.48160223, 17.22762048, 21.71746724,\n",
       "       22.28667664, 21.67591205, 20.77261123, 22.42373668, 22.81776923,\n",
       "       22.32690735, 22.34121278, 21.43481067, 22.15951059, 21.60714881,\n",
       "       19.01813068, 22.68290559, 22.24108857, 18.28576456, 22.55497003,\n",
       "       20.15550077, 21.04571677, 23.07655036, 23.39467738, 24.54077796,\n",
       "       19.76186797, 23.23262244, 23.59642132, 24.46752597, 26.41202687,\n",
       "       21.93855922, 20.97997707, 21.35666204, 19.83530863, 22.2798196 ,\n",
       "       18.90667063, 20.66514619, 23.4017722 , 21.48829123, 21.79118544,\n",
       "       21.88748467, 24.99089249, 22.42835227, 23.97610071, 22.09538161,\n",
       "       24.40417012, 24.60670355, 21.72021036, 21.65691771, 22.0965517 ,\n",
       "       22.41633711, 21.81325984, 23.47333861, 21.78172497, 23.09730729,\n",
       "       20.50157178, 22.08094517, 20.9903184 , 22.18128325, 16.33804331,\n",
       "       23.72420403, 18.01465789, 23.11314188, 22.03988309, 20.45363127,\n",
       "       22.34997474, 17.66427578, 20.54901957, 22.28310236, 24.40417765,\n",
       "       22.79673565, 21.29184313, 23.88186224, 25.40931165, 19.89659656,\n",
       "       22.24374584, 19.94460575, 19.55269129, 23.50856637, 18.62017848,\n",
       "       24.37020147, 24.04977011, 20.42637207, 21.92078198, 18.40963891,\n",
       "       23.69339843, 19.87280574, 21.26941341, 20.2968499 , 25.56772676,\n",
       "       26.37505256, 21.04506495, 23.37422635, 25.18129158, 19.57618603,\n",
       "       24.90949675, 19.02681475, 25.10018506, 21.72277565, 21.48328898,\n",
       "       27.93127653, 22.5465938 , 23.24296991, 22.4510896 , 21.655099  ,\n",
       "       19.745257  , 22.06560219, 19.77965803, 24.4446278 , 22.96651413,\n",
       "       22.85717375, 23.56876971, 20.63495042, 23.1836185 , 20.39680056,\n",
       "       22.23641047, 21.42787041, 22.17292301, 24.66043439, 22.22021072,\n",
       "       21.07145379, 20.77058233, 22.79314003, 23.31046677, 20.55117381,\n",
       "       21.3672226 , 26.78109187, 25.01132455, 22.80076323, 23.60681861,\n",
       "       24.20417385, 23.40466719, 22.16350719, 21.64906895, 21.52972339,\n",
       "       22.70552703, 19.71873055, 18.5980562 , 20.49720992, 22.33893854,\n",
       "       19.03617486, 21.26784908, 22.34121222, 20.74604676, 21.50955582,\n",
       "       21.39395224, 22.134567  , 19.17555336, 21.47206288, 22.77118605,\n",
       "       22.8151064 , 23.59080057, 21.50124266, 20.41906857, 23.85529083,\n",
       "       22.63030485, 20.29576728, 24.13291386, 23.14837699, 20.62315008,\n",
       "       22.4702253 , 21.79396047, 24.51280811, 19.22011001, 17.5413153 ,\n",
       "       23.75602086, 25.36550891, 22.8989048 , 22.73169425, 18.06248282,\n",
       "       21.72447762, 24.07789493, 18.15720048, 23.75800736, 22.53203371,\n",
       "       21.90665463, 22.2604064 , 22.94022724, 20.64786727, 22.18627901,\n",
       "       23.46036724, 23.65377174, 18.11447509, 21.07074666, 22.86120064,\n",
       "       23.30272492, 20.86570894, 21.26426324, 22.15586524, 23.27532797,\n",
       "       26.04123166, 21.78309712, 18.05046949, 20.08240522, 22.9168826 ,\n",
       "       18.6822566 , 22.05989378, 22.5068806 , 22.83485526, 23.66392014,\n",
       "       22.42099483, 24.9266988 , 20.63719893, 23.21540762, 20.14073106,\n",
       "       22.65046059, 23.85372139, 20.07862816, 21.00573236, 23.04492948,\n",
       "       20.88428977, 23.07482105, 19.93030061, 22.49923452, 23.08477334,\n",
       "       22.68103017, 19.60384211, 20.49106936, 19.08139534, 24.21828258])"
      ]
     },
     "execution_count": 17,
     "metadata": {},
     "output_type": "execute_result"
    }
   ],
   "source": [
    "sample_data"
   ]
  },
  {
   "cell_type": "code",
   "execution_count": 18,
   "metadata": {},
   "outputs": [
    {
     "data": {
      "text/plain": [
       "Text(0, 0.5, 'Frequency')"
      ]
     },
     "execution_count": 18,
     "metadata": {},
     "output_type": "execute_result"
    },
    {
     "data": {
      "image/png": "[encoded data removed]",
      "text/plain": [
       "<Figure size 432x288 with 1 Axes>"
      ]
     },
     "metadata": {
      "needs_background": "light"
     },
     "output_type": "display_data"
    }
   ],
   "source": [
    "##Here i got the data. \n",
    "a, b, c = plt.hist(sample_data, bins = 10)\n",
    "plt.plot(b[:-1] + 0.5, a)\n",
    "plt.xlabel('Random Data')\n",
    "plt.ylabel('Frequency')"
   ]
  },
  {
   "cell_type": "markdown",
   "metadata": {},
   "source": [
    "To calculate the probability for any normally distribution data. The proability Distribution function is given by:\n",
    "   $$P(X = x_i) = \\frac{1}{\\sqrt{2\\pi} \\sigma} e^{-{\\frac{{(x_i - \\mu)} ^ 2}{2\\sigma^2} }}$$\n",
    "   \n",
    "It could also be written as:\n",
    "$$P(X = x_i) = \\frac{1}{\\sqrt{2\\pi} \\sigma} e^{-\\frac{1}{2}\\big[{\\frac{{x_i - \\mu}}{\\sigma} }\\big] ^ 2}$$\n",
    "\n",
    "Where $\\mu$ and $\\sigma$ is the natural parameters of the probability distribution. Changing the values of $\\sigma$ and $\\mu$ will give a family of *Gaussian curves*. \n",
    "<br>When we change the values of $\\mu$ it will change the values on $x-axis$. When $\\mu$ is negative the graph is shifted towards negative side or vice versa. <br>But, when we change the values of $\\sigma$ it will change the graph on $y-axis$. When we increase the value of $\\sigma$, graph will shrink from $y-axis$ or vice versa. <br>\n",
    "There is a direct relation between $x-axis$ and $\\mu$ but, inverse relations between $y-axis$ and $\\sigma$.\n",
    "<br>$\\frac{1}{\\sqrt{2\\pi}\\sigma}$ is the scaling value which will help in reducing the probability of center value and distribute among other values. \n",
    "And, $\\bigg(-{\\frac{{x_i - \\mu} ^ 2}{2\\sigma^2}} \\bigg)$ will use to shift the graph over $x-axis$. \n"
   ]
  },
  {
   "cell_type": "markdown",
   "metadata": {},
   "source": [
    "To find the probability of we can use the distribution function. \n",
    "In our example, we took $\\mu$ = 22 and $\\sigma$ = 2. Let's find the value of $P(X = 24)$"
   ]
  },
  {
   "cell_type": "code",
   "execution_count": 19,
   "metadata": {},
   "outputs": [],
   "source": [
    "# Writing a function to calculate the probability. \n",
    "def Normal_PDF(x, mu, sigma):\n",
    "    scale_parm = 1 / (np.sqrt(2 * np.pi) * sigma)\n",
    "    shift = np.e ** (((x - mu) ** 2) / (2 * sigma ** 2))\n",
    "    return scale_parm * shift\n"
   ]
  },
  {
   "cell_type": "code",
   "execution_count": 20,
   "metadata": {},
   "outputs": [
    {
     "name": "stdout",
     "output_type": "stream",
     "text": [
      "Individual probability of 24 is 0.3288723117397285\n"
     ]
    }
   ],
   "source": [
    "x = 24\n",
    "mu = 22\n",
    "sigma = 2\n",
    "individual_prob = Normal_PDF(x, mu, sigma)\n",
    "print (\"Individual probability of {} is {}\".format(x, individual_prob))"
   ]
  },
  {
   "cell_type": "markdown",
   "metadata": {},
   "source": [
    "Now, we are going to calculate the Cummulative probability function for normal distribution. \n",
    "As, we know in continuous random variable the porbability is calculated by:\n",
    "$$f(x) = \\int_{i = -\\infty}^{\\infty} P(X=x_i) dx$$\n",
    "So, change $P(X = x_i)$ wil probability function. \n",
    "$$ f(x) = \\int_{i = -\\infty}^{\\infty} {\\frac{1}{\\sqrt{2\\pi} \\sigma} e^{-\\frac{1}{2}\\big[{\\frac{{x_i - \\mu}}{\\sigma} }\\big] ^ 2}} dx$$\n",
    "\n",
    "But it will be computationally complicated to calculate the integral of a normal distributed function.<br>To solve the probable scientists introduce a table. Where integral for particular value is already calculated. But still have some problem, in our case we are finding probability for BMI which have the unit value $kg/m^2$. But when we can the example then we get unit in different values. To solve that problem scientist create standardized form of the same distribution. By which it become more easy to solve the problem.  \n",
    "To standardize the values scientists give an equation:\n",
    "$$z = \\frac{x-\\mu}{\\sigma}$$ \n",
    "This equation will help to find the *z-score* for every normalized random variable. It compress the variable into a range of $[-4, 4]$. It also known as *zero mean one standard deviation score*.<br>And scientist calculate integrals for all values of that range. They created a table called <a href = \"http://www.z-table.com/\" >Z-score table. </a>\n",
    "\n",
    "<img src = \"http://www.z-table.com/uploads/2/1/7/9/21795380/7807141_orig.png\" height = \"50\" width = \"200\"/>\n",
    "In integration we find the value of from minimum value to a particular value. As shown in shaded region. "
   ]
  },
  {
   "cell_type": "code",
   "execution_count": 21,
   "metadata": {},
   "outputs": [],
   "source": [
    "# In python, to get z-score we use function of scipy library\n",
    "#Let's calculate the z-score for our indiviual probability. Before finding the z-score we have standardize our x-value.\n",
    "\n",
    "x = 24\n",
    "mu = 22\n",
    "sigma = 2"
   ]
  },
  {
   "cell_type": "code",
   "execution_count": 22,
   "metadata": {},
   "outputs": [],
   "source": [
    "calc_zscore = lambda x,mu,sigma: (x-mu) / sigma"
   ]
  },
  {
   "cell_type": "code",
   "execution_count": 23,
   "metadata": {},
   "outputs": [],
   "source": [
    "z_score = calc_zscore(18.5, mu, sigma)"
   ]
  },
  {
   "cell_type": "code",
   "execution_count": 24,
   "metadata": {},
   "outputs": [
    {
     "data": {
      "text/plain": [
       "-1.75"
      ]
     },
     "execution_count": 24,
     "metadata": {},
     "output_type": "execute_result"
    }
   ],
   "source": [
    "z_score"
   ]
  },
  {
   "cell_type": "markdown",
   "metadata": {},
   "source": [
    "Now we can calculate cummulative distribution function for that Value. "
   ]
  },
  {
   "cell_type": "code",
   "execution_count": 27,
   "metadata": {},
   "outputs": [],
   "source": [
    "ProbabilityForXValue = S.norm.cdf(z_score)"
   ]
  },
  {
   "cell_type": "code",
   "execution_count": 28,
   "metadata": {},
   "outputs": [
    {
     "data": {
      "text/plain": [
       "0.040059156863817086"
      ]
     },
     "execution_count": 28,
     "metadata": {},
     "output_type": "execute_result"
    }
   ],
   "source": [
    "ProbabilityForXValue"
   ]
  },
  {
   "cell_type": "markdown",
   "metadata": {},
   "source": [
    "We can also find the probability in between an interval. For e.g., In our BMI example, let's say i want to find the probability of a person having BMI in between 20 to 23. \n",
    "So, basically we have to find $ F(X \\geq 20 \\hspace{1mm}\\&\\hspace{1mm} X \\leq 23) $. \n",
    "As, we know the from $z-score$ we can able to find the probability from minimum to a specific value. \n",
    "So, there we can subtract the probability of largest value with smallest we can get the probability of that region. \n",
    "$$F(X \\geq20 \\hspace{1mm}\\&\\hspace{1mm}X\\leq23) = F(X = 23) - F(X = 20)$$"
   ]
  },
  {
   "cell_type": "code",
   "execution_count": 33,
   "metadata": {},
   "outputs": [
    {
     "data": {
      "text/plain": [
       "(20, 23)"
      ]
     },
     "execution_count": 33,
     "metadata": {},
     "output_type": "execute_result"
    }
   ],
   "source": [
    "## So first we have to find the standardize our values. \n",
    "x1, x2 = [20,23]\n",
    "x1, x2"
   ]
  },
  {
   "cell_type": "code",
   "execution_count": 35,
   "metadata": {},
   "outputs": [
    {
     "data": {
      "text/plain": [
       "(-1.0, 0.5)"
      ]
     },
     "execution_count": 35,
     "metadata": {},
     "output_type": "execute_result"
    }
   ],
   "source": [
    "x1_zscore = calc_zscore(x1, mu, sigma)\n",
    "x2_zscore = calc_zscore(x2, mu, sigma)\n",
    "(x1_zscore, x2_zscore)"
   ]
  },
  {
   "cell_type": "code",
   "execution_count": 37,
   "metadata": {},
   "outputs": [
    {
     "data": {
      "text/plain": [
       "(0.15865525393145707, 0.6914624612740131)"
      ]
     },
     "execution_count": 37,
     "metadata": {},
     "output_type": "execute_result"
    }
   ],
   "source": [
    "## Find the cummulative probability of random variable. \n",
    "x1_cdf = S.norm.cdf(x1_zscore)\n",
    "x2_cdf = S.norm.cdf(x2_zscore)\n",
    "x1_cdf, x2_cdf"
   ]
  },
  {
   "cell_type": "code",
   "execution_count": 39,
   "metadata": {},
   "outputs": [
    {
     "data": {
      "text/plain": [
       "0.532807207342556"
      ]
     },
     "execution_count": 39,
     "metadata": {},
     "output_type": "execute_result"
    }
   ],
   "source": [
    "## Subtract to find the probability of that region. \n",
    "region_prob = x2_cdf - x1_cdf\n",
    "region_prob"
   ]
  },
  {
   "cell_type": "markdown",
   "metadata": {},
   "source": [
    "So, The $F(X \\geq20 \\hspace{1mm}\\&\\hspace{1mm}X\\leq23) = 0.5328$. Similarly, we can find probability for any specific region. "
   ]
  },
  {
   "cell_type": "markdown",
   "metadata": {},
   "source": [
    "Similarily, Probability distribution for standard normal variable is given as:\n",
    "$$ P(X = x_i) = \\frac{1}{\\sqrt{2\\pi}} e^{-\\frac{1}{2}x_i^2} $$"
   ]
  },
  {
   "cell_type": "markdown",
   "metadata": {},
   "source": [
    "## Inverse Transform Sampling\n",
    "\n",
    "It is a sampling method, where we generate pseduo-random number for a particular any probability distribution. For Normal distribution, we can generate random(artifical) data for given mean($\\mu$) and standard deviation($\\sigma$). \n",
    "We are going to implement this method"
   ]
  },
  {
   "cell_type": "code",
   "execution_count": 71,
   "metadata": {},
   "outputs": [],
   "source": [
    "## it need 3 parameters (mean, standard deviation, size)\n",
    "## Return a array of normally distributed random numbers.\n",
    "\n",
    "def inverse_transform_sampling(mean, sigma, size):\n",
    "    prob_val = np.random.uniform(0,1,size).astype(float)\n",
    "    z_score = S.norm.ppf(prob_val)\n",
    "    random_values = mean - (z_score * sigma)\n",
    "    return random_values"
   ]
  },
  {
   "cell_type": "code",
   "execution_count": 79,
   "metadata": {},
   "outputs": [],
   "source": [
    "value = inverse_transform_sampling(22,2,(100,2)).astype(float)"
   ]
  },
  {
   "cell_type": "code",
   "execution_count": 81,
   "metadata": {},
   "outputs": [
    {
     "data": {
      "text/plain": [
       "([array([0.02100799, 0.09453597, 0.10503996, 0.12604795, 0.13655195,\n",
       "         0.23108792, 0.16806394, 0.08403197, 0.07352797, 0.010504  ]),\n",
       "  array([0.03151199, 0.07352797, 0.05251998, 0.13655195, 0.22058392,\n",
       "         0.15755994, 0.18907193, 0.13655195, 0.03151199, 0.02100799])],\n",
       " array([17.29389152, 18.24591014, 19.19792876, 20.14994739, 21.10196601,\n",
       "        22.05398463, 23.00600326, 23.95802188, 24.91004051, 25.86205913,\n",
       "        26.81407775]),\n",
       " <a list of 2 Lists of Patches objects>)"
      ]
     },
     "execution_count": 81,
     "metadata": {},
     "output_type": "execute_result"
    },
    {
     "data": {
      "image/png": "[encoded data removed]",
      "text/plain": [
       "<Figure size 432x288 with 1 Axes>"
      ]
     },
     "metadata": {
      "needs_background": "light"
     },
     "output_type": "display_data"
    }
   ],
   "source": [
    "plt.hist(value,density = True, )"
   ]
  },
  {
   "cell_type": "code",
   "execution_count": null,
   "metadata": {},
   "outputs": [],
   "source": []
  }
 ],
 "metadata": {
  "kernelspec": {
   "display_name": "Python 3",
   "language": "python",
   "name": "python3"
  },
  "language_info": {
   "codemirror_mode": {
    "name": "ipython",
    "version": 3
   },
   "file_extension": ".py",
   "mimetype": "text/x-python",
   "name": "python",
   "nbconvert_exporter": "python",
   "pygments_lexer": "ipython3",
   "version": "3.7.1"
  }
 },
 "nbformat": 4,
 "nbformat_minor": 2
}
